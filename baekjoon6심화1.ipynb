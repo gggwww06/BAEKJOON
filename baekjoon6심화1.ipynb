{
  "nbformat": 4,
  "nbformat_minor": 0,
  "metadata": {
    "colab": {
      "provenance": [],
      "authorship_tag": "ABX9TyNFiuNzmfKSCm/PPAjSMezs",
      "include_colab_link": true
    },
    "kernelspec": {
      "name": "python3",
      "display_name": "Python 3"
    },
    "language_info": {
      "name": "python"
    }
  },
  "cells": [
    {
      "cell_type": "markdown",
      "metadata": {
        "id": "view-in-github",
        "colab_type": "text"
      },
      "source": [
        "<a href=\"https://colab.research.google.com/github/gggwww06/baekjoon_step/blob/main/baekjoon6%EC%8B%AC%ED%99%941.ipynb\" target=\"_parent\"><img src=\"https://colab.research.google.com/assets/colab-badge.svg\" alt=\"Open In Colab\"/></a>"
      ]
    },
    {
      "cell_type": "code",
      "execution_count": 2,
      "metadata": {
        "colab": {
          "base_uri": "https://localhost:8080/"
        },
        "id": "gDq2PQshOwbY",
        "outputId": "9000158d-b51f-4684-efc2-ac75647d8c53"
      },
      "outputs": [
        {
          "output_type": "stream",
          "name": "stdout",
          "text": [
            "         ,r'\"7\n",
            "r`-_   ,'  ,/\n",
            " \\. \". L_r'\n",
            "   `~\\/\n",
            "      |\n",
            "      |\n"
          ]
        }
      ],
      "source": [
        "# 25083\n",
        "\n",
        "print(r\"\"\"         ,r'\"7\n",
        "r`-_   ,'  ,/\n",
        " \\. \". L_r'\n",
        "   `~\\/\n",
        "      |\n",
        "      |\"\"\")\n",
        "\n",
        "# 코랩에서 r 안 붙이면 될 때도 있고, 안 될 때도 있음... 백준에서는 r 안 붙이고 \"\"\" ~ \"\"\"만 해도\n",
        "# ex. print(r\"\\\\\") > \\\\ 이지만 print(r\"\\\") > 오류..."
      ]
    },
    {
      "cell_type": "code",
      "source": [
        "# 3003\n",
        "\n",
        "a = list(map(int, input().split()))\n",
        "print(*[i - j for i,j in zip([1,1,2,2,2,8], a)])\n",
        "\n",
        "# a,b,c,d,e,f=map(int,input().split())\n",
        "# print(1-a,1-b,2-c,2-d,2-e,8-f)"
      ],
      "metadata": {
        "colab": {
          "base_uri": "https://localhost:8080/"
        },
        "id": "aB5Zj6D-Qurt",
        "outputId": "31fcfecb-c47f-4a74-c2fd-a4e81bb2eb95"
      },
      "execution_count": 54,
      "outputs": [
        {
          "output_type": "stream",
          "name": "stdout",
          "text": [
            "2 1 2 1 2 1\n",
            "-1 0 0 1 0 7\n"
          ]
        }
      ]
    }
  ]
}