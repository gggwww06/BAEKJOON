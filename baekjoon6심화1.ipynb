{
  "nbformat": 4,
  "nbformat_minor": 0,
  "metadata": {
    "colab": {
      "provenance": [],
      "authorship_tag": "ABX9TyPZxqnlaEXJ9L+R6Q1y/gcl",
      "include_colab_link": true
    },
    "kernelspec": {
      "name": "python3",
      "display_name": "Python 3"
    },
    "language_info": {
      "name": "python"
    }
  },
  "cells": [
    {
      "cell_type": "markdown",
      "metadata": {
        "id": "view-in-github",
        "colab_type": "text"
      },
      "source": [
        "<a href=\"https://colab.research.google.com/github/gggwww06/baekjoon_step/blob/main/baekjoon6%EC%8B%AC%ED%99%941.ipynb\" target=\"_parent\"><img src=\"https://colab.research.google.com/assets/colab-badge.svg\" alt=\"Open In Colab\"/></a>"
      ]
    },
    {
      "cell_type": "code",
      "execution_count": null,
      "metadata": {
        "colab": {
          "base_uri": "https://localhost:8080/"
        },
        "id": "gDq2PQshOwbY",
        "outputId": "9000158d-b51f-4684-efc2-ac75647d8c53"
      },
      "outputs": [
        {
          "output_type": "stream",
          "name": "stdout",
          "text": [
            "         ,r'\"7\n",
            "r`-_   ,'  ,/\n",
            " \\. \". L_r'\n",
            "   `~\\/\n",
            "      |\n",
            "      |\n"
          ]
        }
      ],
      "source": [
        "# 25083\n",
        "\n",
        "print(r\"\"\"         ,r'\"7\n",
        "r`-_   ,'  ,/\n",
        " \\. \". L_r'\n",
        "   `~\\/\n",
        "      |\n",
        "      |\"\"\")\n",
        "\n",
        "# 코랩에서 r 안 붙이면 될 때도 있고, 안 될 때도 있음... 백준에서는 r 안 붙이고 \"\"\" ~ \"\"\"만 해도\n",
        "# ex. print(r\"\\\\\") > \\\\ 이지만 print(r\"\\\") > 오류..."
      ]
    },
    {
      "cell_type": "code",
      "source": [
        "# 3003\n",
        "\n",
        "a = list(map(int, input().split()))\n",
        "print(*[i - j for i,j in zip([1,1,2,2,2,8], a)])\n",
        "\n",
        "# a,b,c,d,e,f=map(int,input().split())\n",
        "# print(1-a,1-b,2-c,2-d,2-e,8-f)"
      ],
      "metadata": {
        "colab": {
          "base_uri": "https://localhost:8080/"
        },
        "id": "aB5Zj6D-Qurt",
        "outputId": "31fcfecb-c47f-4a74-c2fd-a4e81bb2eb95"
      },
      "execution_count": null,
      "outputs": [
        {
          "output_type": "stream",
          "name": "stdout",
          "text": [
            "2 1 2 1 2 1\n",
            "-1 0 0 1 0 7\n"
          ]
        }
      ]
    },
    {
      "cell_type": "code",
      "source": [
        "# 2444\n",
        "\n",
        "n = int(input())\n",
        "for i in range(1, n*2):\n",
        "  if i < n:\n",
        "    print(\" \"*(n-i) + \"*\"*(i*2 -1))\n",
        "  else:\n",
        "    print(\" \"*(i - n) + \"*\"*(n*4 - i*2 - 1))\n",
        "\n",
        "# print(\" \"*abs(i-n) + \"*\"* ((n*2)-1 - abs(i-n)*2) )\n",
        "# abs() : 절댓값\n",
        "\n",
        "# if 안 하고 for을 2번 해도 됨\n",
        "# for i in range(1,a+1):\n",
        "#     print(' '*(a-i)+'*'*(2*i-1))\n",
        "# for i in range(1,a):\n",
        "#     print(' '*i+'*'*(2*a-2*i-1))"
      ],
      "metadata": {
        "colab": {
          "base_uri": "https://localhost:8080/"
        },
        "id": "5hNsTWdV54LC",
        "outputId": "1ef0b5d5-5fb4-44d6-a1fa-da1158233d2b"
      },
      "execution_count": 3,
      "outputs": [
        {
          "output_type": "stream",
          "name": "stdout",
          "text": [
            "5\n",
            "    *\n",
            "   ***\n",
            "  *****\n",
            " *******\n",
            "*********\n",
            " *******\n",
            "  *****\n",
            "   ***\n",
            "    *\n"
          ]
        }
      ]
    },
    {
      "cell_type": "code",
      "source": [
        "# 10988\n",
        "\n",
        "s = input()\n",
        "print((s == s[::-1])*1)\n",
        "\n",
        "# Boolean에 *1을 하면 True 는 1로, False 는 0으로 변경된다.\n",
        "# int(Boolean)도 가능"
      ],
      "metadata": {
        "colab": {
          "base_uri": "https://localhost:8080/"
        },
        "id": "EXDBLU5c7lFX",
        "outputId": "359df4b0-34f4-4db5-8af9-b2d1fb4b4498"
      },
      "execution_count": 10,
      "outputs": [
        {
          "output_type": "stream",
          "name": "stdout",
          "text": [
            "level\n",
            "1\n"
          ]
        }
      ]
    },
    {
      "cell_type": "code",
      "source": [
        "# 1157\n",
        "\n",
        "s = input().upper()\n",
        "ss = set(s)\n",
        "sn = [s.count(i) for i in ss]\n",
        "if sn.count(max(sn)) > 1:\n",
        "  print(\"?\")\n",
        "else:\n",
        "  print(list(ss)[sn.index(max(sn))])"
      ],
      "metadata": {
        "colab": {
          "base_uri": "https://localhost:8080/"
        },
        "id": "EcGbNXlKUU5W",
        "outputId": "5c4e4a22-68bc-4325-c084-2d22b12ca5d6"
      },
      "execution_count": 27,
      "outputs": [
        {
          "output_type": "stream",
          "name": "stdout",
          "text": [
            "baaa\n",
            "A\n"
          ]
        }
      ]
    },
    {
      "cell_type": "code",
      "source": [
        "s = input()\n",
        "print(len(s) - s.count(\"=\") - s.count(\"dz=\") - s.count(\"-\") - s.count(\"lj\") - s.count(\"nj\"))\n",
        "\n",
        "# print(len(c:=input())-sum(map(c.count,['-','=','nj','lj','dz='])))\n",
        "# := (바다코끼리 연산자) : 표현식의 결과를 변수에 할당하고, 동시에 반환"
      ],
      "metadata": {
        "colab": {
          "base_uri": "https://localhost:8080/"
        },
        "id": "r2eBAGUP-LHz",
        "outputId": "2bd01b03-155e-4bd1-f30c-3fae7822bf66"
      },
      "execution_count": 34,
      "outputs": [
        {
          "output_type": "stream",
          "name": "stdout",
          "text": [
            "dz=ak\n",
            "3\n"
          ]
        }
      ]
    },
    {
      "cell_type": "code",
      "source": [
        "# 1316\n",
        "\n",
        "n = int(input())\n",
        "sum = 0\n",
        "for _ in range(n):\n",
        "  s = input()\n",
        "  b = True\n",
        "  for i in set(s):\n",
        "    c = []\n",
        "    for j, k in enumerate(s):\n",
        "      if k == i:\n",
        "        c.append(j)\n",
        "    for j in range(len(c)-1):\n",
        "      if c[j+1] - c[j] != 1:\n",
        "        b = False\n",
        "  if b:\n",
        "    sum += 1\n",
        "print(sum)\n",
        "\n",
        "# for j in range(len(data)-1):\n",
        "# \t\tif data[j]==data[j+1]:\n",
        "# \t\t\tpass\n",
        "# \t\telif data[j] in data[j+2:]:\n",
        "# \t\t\tcnt-=1\n",
        "# \t\t\tbreak\n",
        "\n",
        "# for i in range(a):\n",
        "#     b = str(input())\n",
        "#     if list(b) == sorted(b, key=b.find):\n",
        "#         count += 1"
      ],
      "metadata": {
        "colab": {
          "base_uri": "https://localhost:8080/"
        },
        "id": "tbSBuw8SAvBs",
        "outputId": "aa9bb15b-b39e-483f-cf43-d053e34dd104"
      },
      "execution_count": 42,
      "outputs": [
        {
          "output_type": "stream",
          "name": "stdout",
          "text": [
            "3\n",
            "aba\n",
            "abab\n",
            "a\n",
            "1\n"
          ]
        }
      ]
    },
    {
      "cell_type": "code",
      "source": [
        "# 25206\n",
        "\n",
        "d = {'A+':4.5, 'A0':4.0, 'B+':3.5, 'B0':3.0, 'C+':2.5, 'C0':2.0, 'D+':1.5, 'D0':1.0, 'F':0.0}\n",
        "s, n = 0, 0\n",
        "for _ in range(20):\n",
        "  a, b, c = input().split()\n",
        "  if c != 'P':\n",
        "    s += float(b)\n",
        "    n += d[c] * float(b)\n",
        "print(n/s)\n",
        "\n",
        "# 문제를 꼼꼼하게 읽자...\n",
        "\n",
        "# ord 이용\n",
        "# a=b=0\n",
        "# for i in open(0):x,y,z=i.split();d=eval(y)*(z<'G');a+=d;b+=d*(69-ord(z[0])+('+'in z)/2+(z>'E'))\n",
        "# print(b/a)"
      ],
      "metadata": {
        "colab": {
          "base_uri": "https://localhost:8080/"
        },
        "id": "3HlSDTPSGPNF",
        "outputId": "119f0b11-5a11-41d4-e9d5-40cc3c4a7f41"
      },
      "execution_count": 50,
      "outputs": [
        {
          "output_type": "stream",
          "name": "stdout",
          "text": [
            "a 3.0 A+\n",
            "b 2.0 P\n",
            "4.5\n"
          ]
        }
      ]
    }
  ]
}