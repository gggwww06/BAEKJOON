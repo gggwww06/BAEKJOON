{
  "nbformat": 4,
  "nbformat_minor": 0,
  "metadata": {
    "colab": {
      "provenance": [],
      "authorship_tag": "ABX9TyMFQIcTRbhjaqSPmpSI/K1x",
      "include_colab_link": true
    },
    "kernelspec": {
      "name": "python3",
      "display_name": "Python 3"
    },
    "language_info": {
      "name": "python"
    }
  },
  "cells": [
    {
      "cell_type": "markdown",
      "metadata": {
        "id": "view-in-github",
        "colab_type": "text"
      },
      "source": [
        "<a href=\"https://colab.research.google.com/github/gggwww06/baekjoon_step/blob/main/baekjoon16%EC%8A%A4%ED%83%9D%2C%ED%81%90%2C%EB%8D%B1.ipynb\" target=\"_parent\"><img src=\"https://colab.research.google.com/assets/colab-badge.svg\" alt=\"Open In Colab\"/></a>"
      ]
    },
    {
      "cell_type": "code",
      "source": [
        "# deque 써보는중\n",
        "\n",
        "from collections import deque\n",
        "\n",
        "a = [1,2,3,4]\n",
        "q = deque()\n",
        "if q == deque([]):\n",
        "  print(\"o\")\n",
        "q.append(1)\n",
        "q.append([1,2])\n",
        "q.append(a[2:])\n",
        "print(q)\n",
        "print(q[1])\n",
        "print(q.popleft())"
      ],
      "metadata": {
        "colab": {
          "base_uri": "https://localhost:8080/"
        },
        "id": "ufz68JLFBAGL",
        "outputId": "8dd3ab68-c33b-4d39-cf0e-9b8542a3c85d"
      },
      "execution_count": 8,
      "outputs": [
        {
          "output_type": "stream",
          "name": "stdout",
          "text": [
            "o\n",
            "deque([1, [1, 2], [3, 4]])\n",
            "[1, 2]\n",
            "1\n"
          ]
        }
      ]
    },
    {
      "cell_type": "code",
      "execution_count": 14,
      "metadata": {
        "colab": {
          "base_uri": "https://localhost:8080/"
        },
        "id": "uSBhKhh9f8AQ",
        "outputId": "bb962de4-8abb-4ce1-bf3e-7c1dc530f519"
      },
      "outputs": [
        {
          "output_type": "stream",
          "name": "stdout",
          "text": [
            "4 0 1 1 0 1 2 3 4 3 2 4 7\n",
            "deque([1, 4])\n",
            "4 1 2 "
          ]
        }
      ],
      "source": [
        "# 24511\n",
        "\n",
        "from collections import deque\n",
        "\n",
        "q = deque()\n",
        "n, *a = map(int, input().split())\n",
        "# n, *a = map(int, open(0).read().split())\n",
        "m = int(a[n*2])\n",
        "for i in range(n):\n",
        "  if not a[i]:\n",
        "    q.append(a[i+n])\n",
        "\n",
        "if q == deque([]):\n",
        "  print(*a[n*2 + 1:])\n",
        "else:\n",
        "  for i in a[n*2 + 1:]:\n",
        "    q.appendleft(i)\n",
        "    print(q.pop(), end=\" \")\n",
        "\n",
        "# 그냥 리스트로 푼 거 : 거꾸로 넣고 1 4 -> 4 1, extend해서 m개까지만 출력 [4, 1, 2, 4, 7][:3]\n",
        "# N = sys.stdin.readline()\n",
        "# A = sys.stdin.readline().split()\n",
        "# B = [b for a,b in zip(A, sys.stdin.readline().split()) if a == '0'][::-1]\n",
        "# M = int(sys.stdin.readline())\n",
        "# B.extend(sys.stdin.readline().split())\n",
        "# print(' '.join(B[:M]))"
      ]
    }
  ]
}