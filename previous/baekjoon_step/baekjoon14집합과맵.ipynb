{
  "nbformat": 4,
  "nbformat_minor": 0,
  "metadata": {
    "colab": {
      "provenance": [],
      "authorship_tag": "ABX9TyPa0UUabz2pLE+gYne+a0d+",
      "include_colab_link": true
    },
    "kernelspec": {
      "name": "python3",
      "display_name": "Python 3"
    },
    "language_info": {
      "name": "python"
    }
  },
  "cells": [
    {
      "cell_type": "markdown",
      "metadata": {
        "id": "view-in-github",
        "colab_type": "text"
      },
      "source": [
        "<a href=\"https://colab.research.google.com/github/gggwww06/baekjoon_step/blob/main/baekjoon14%EC%A7%91%ED%95%A9%EA%B3%BC%EB%A7%B5.ipynb\" target=\"_parent\"><img src=\"https://colab.research.google.com/assets/colab-badge.svg\" alt=\"Open In Colab\"/></a>"
      ]
    },
    {
      "cell_type": "code",
      "execution_count": null,
      "metadata": {
        "colab": {
          "base_uri": "https://localhost:8080/"
        },
        "id": "p7B46_jOdw1o",
        "outputId": "392454ed-b5da-4b08-81ef-71eb2713e41e"
      },
      "outputs": [
        {
          "output_type": "stream",
          "name": "stdout",
          "text": [
            "5\n",
            "6 3 2 10 -10\n",
            "8\n",
            "10 9 -5 2 3 4 5 -10\n",
            "1 0 0 1 1 0 0 1 "
          ]
        }
      ],
      "source": [
        "# 10815\n",
        "\n",
        "import sys\n",
        "\n",
        "_, a, _, b = int(input()), list(input().split()), int(input()), list(input().split())\n",
        "# n, a, m, b = int(sys.stdin.readlines()), list(sys.stdin.readlines().split()), int(sys.stdin.readlines()), list(sys.stdin.readlines().split())\n",
        "# ㄴ에러\n",
        "c = {i:1 for i in a}\n",
        "for i in b:\n",
        "  try:\n",
        "    print(c[i], end = \" \")\n",
        "  except:\n",
        "    print(0, end = \" \")\n",
        "\n",
        "# A, B = sys.stdin.buffer.read().splitlines()[1::2]\n",
        "# A = set(A.split())\n",
        "# B = B.split()\n",
        "# print(\"\".join(\"1 \" if x in A else \"0 \" for x in B))"
      ]
    },
    {
      "cell_type": "code",
      "source": [
        "# 1620\n",
        "\n",
        "import sys\n",
        "\n",
        "# k = sys.stdin.buffer.read().splitlines() -> 얘때문에 출력이 바이트 시퀀스로 나옴\n",
        "# k = sys.stdin.read().split()\n",
        "# n = int(k[0])\n",
        "# a = k[2:n+2]\n",
        "# b = k[n+2:]\n",
        "n, m = map(int, input().split())\n",
        "a, b = input().split(), input().split()\n",
        "d = {}\n",
        "for i, j in enumerate(a, start=1):\n",
        "  d[i] = j\n",
        "  d[j] = i\n",
        "for i in b:\n",
        "  if i.isdigit():\n",
        "    i = int(i)\n",
        "  print(d[i])\n",
        "\n",
        "# D = {x: str(n) for n, x in enumerate(A[1:N + 1], 1)}\n",
        "# stdout.write('\\n'.join(A[int(x)] if x.isdigit() else D[x] for x in A[N + 1:]))"
      ],
      "metadata": {
        "id": "uXEQoBzGOhMa",
        "colab": {
          "base_uri": "https://localhost:8080/"
        },
        "outputId": "c7ecd113-9353-4158-b791-d4530a21543e"
      },
      "execution_count": 16,
      "outputs": [
        {
          "output_type": "stream",
          "name": "stdout",
          "text": [
            "34 2\n",
            "Bulbasaur Ivysaur Venusaur Charmander Charmeleon Charizard Squirtle Wartortle Blastoise Caterpie Metapod Butterfree Weedle Kakuna Beedrill Pidgey Pidgeotto Pidgeot Rattata Raticate Spearow Fearow Ekans Arbok Pikachu Raichu\n",
            "25 Raichu 3 Pidgey Kakuna\n",
            "Pikachu\n",
            "26\n",
            "Venusaur\n",
            "16\n",
            "14\n"
          ]
        }
      ]
    },
    {
      "cell_type": "code",
      "source": [
        "# 부분집합 구하기...\n",
        "\n",
        "s = input()\n",
        "a = [1<<i for i in range(len(s))]\n",
        "b = set()\n",
        "for i in range(1, 1<<len(s)):\n",
        "  b.add(\"\".join(j for j,a in zip(s,a) if a & i))\n",
        "print(b)\n",
        "print(len(b))"
      ],
      "metadata": {
        "colab": {
          "base_uri": "https://localhost:8080/"
        },
        "id": "gSm12GmR9Z19",
        "outputId": "25312112-0e43-4105-e628-db41b06ccfe6"
      },
      "execution_count": 22,
      "outputs": [
        {
          "output_type": "stream",
          "name": "stdout",
          "text": [
            "ababc\n",
            "{'abc', 'bac', 'bc', 'b', 'ab', 'babc', 'abac', 'abb', 'ababc', 'aab', 'abab', 'a', 'ba', 'c', 'aabc', 'bb', 'aa', 'aba', 'ac', 'bab', 'aac', 'bbc', 'abbc'}\n",
            "23\n"
          ]
        }
      ]
    },
    {
      "cell_type": "code",
      "source": [
        "# 11478\n",
        "\n",
        "s = input()\n",
        "a = set()\n",
        "for i in range(len(s)):\n",
        "  for j in range(len(s)):\n",
        "    a.add(s[i:j+1])\n",
        "print(len(a)-1)"
      ],
      "metadata": {
        "colab": {
          "base_uri": "https://localhost:8080/"
        },
        "id": "T0kb7a0syRby",
        "outputId": "a8da7246-fe85-4519-9f05-94ef46262d72"
      },
      "execution_count": 27,
      "outputs": [
        {
          "output_type": "stream",
          "name": "stdout",
          "text": [
            "ababc\n",
            "12\n"
          ]
        }
      ]
    }
  ]
}
