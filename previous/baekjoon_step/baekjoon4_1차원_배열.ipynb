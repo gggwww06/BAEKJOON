{
  "nbformat": 4,
  "nbformat_minor": 0,
  "metadata": {
    "colab": {
      "provenance": [],
      "authorship_tag": "ABX9TyOt3y83ioFfz7wCsGSRf7n8",
      "include_colab_link": true
    },
    "kernelspec": {
      "name": "python3",
      "display_name": "Python 3"
    },
    "language_info": {
      "name": "python"
    }
  },
  "cells": [
    {
      "cell_type": "markdown",
      "metadata": {
        "id": "view-in-github",
        "colab_type": "text"
      },
      "source": [
        "<a href=\"https://colab.research.google.com/github/gggwww06/baekjoon_step/blob/main/baekjoon4_1%EC%B0%A8%EC%9B%90_%EB%B0%B0%EC%97%B4.ipynb\" target=\"_parent\"><img src=\"https://colab.research.google.com/assets/colab-badge.svg\" alt=\"Open In Colab\"/></a>"
      ]
    },
    {
      "cell_type": "code",
      "execution_count": null,
      "metadata": {
        "id": "zgW143iToS3m",
        "colab": {
          "base_uri": "https://localhost:8080/"
        },
        "outputId": "9e48e949-d54d-42f4-e973-0e005ba2b048"
      },
      "outputs": [
        {
          "output_type": "stream",
          "name": "stdout",
          "text": [
            "11\n",
            "1 4 1 2 4 2 4 2 3 4 4\n",
            "2\n",
            "3\n"
          ]
        }
      ],
      "source": [
        "# 10807\n",
        "\n",
        "n = int(input())\n",
        "l = list(input().split())\n",
        "f = input()\n",
        "print(l.count(f))\n",
        "\n",
        "# i=input;\n",
        "# i();\n",
        "# print(i().split().count(i()))"
      ]
    },
    {
      "cell_type": "code",
      "source": [
        "# 10871\n",
        "\n",
        "n, x = map(int, input().split())\n",
        "l = list(map(int, input().split()))\n",
        "for i in l:\n",
        "  if i < x:\n",
        "    print(i, end=\" \")\n",
        "\n",
        "# print(' '.join([a for a in arr if int(a)<int(x)]))"
      ],
      "metadata": {
        "colab": {
          "base_uri": "https://localhost:8080/"
        },
        "id": "Xn4Ga4jK7fQB",
        "outputId": "d6faa72c-e760-4162-fcbc-8b319113c238"
      },
      "execution_count": null,
      "outputs": [
        {
          "output_type": "stream",
          "name": "stdout",
          "text": [
            "10 5\n",
            "1 10 4 9 2 3 8 5 7 6\n",
            "1 4 2 3 "
          ]
        }
      ]
    },
    {
      "cell_type": "code",
      "source": [
        "# 10818\n",
        "\n",
        "n = input()\n",
        "arr = list(map(int, input().split()))\n",
        "print(min(arr), max(arr))"
      ],
      "metadata": {
        "colab": {
          "base_uri": "https://localhost:8080/"
        },
        "id": "8BZaRfK8CSRS",
        "outputId": "0336859a-d6ca-4c48-cdaf-f0235951454f"
      },
      "execution_count": null,
      "outputs": [
        {
          "output_type": "stream",
          "name": "stdout",
          "text": [
            "5\n",
            "20 10 35 30 7\n",
            "7 35\n"
          ]
        }
      ]
    },
    {
      "cell_type": "code",
      "source": [
        "# 2562\n",
        "\n",
        "a = [int(input()) for _ in range(9)]\n",
        "print(max(a), a.index(max(a))+1)"
      ],
      "metadata": {
        "colab": {
          "base_uri": "https://localhost:8080/"
        },
        "id": "YvorcYYxKgIH",
        "outputId": "63e98ac4-a0db-436d-fd1b-909b9c506814"
      },
      "execution_count": null,
      "outputs": [
        {
          "output_type": "stream",
          "name": "stdout",
          "text": [
            "3\n",
            "29\n",
            "38\n",
            "12\n",
            "57\n",
            "74\n",
            "40\n",
            "85\n",
            "61\n",
            "85 8\n"
          ]
        }
      ]
    },
    {
      "cell_type": "code",
      "source": [
        "# 10810\n",
        "\n",
        "n, m = map(int, input().split())\n",
        "a = [0 for _ in range(n)]\n",
        "for _ in range(m):\n",
        "  i, j, k = map(int, input().split())\n",
        "  for p in range(i-1, j):\n",
        "    a[p] = k\n",
        "print(\" \".join(map(str, a)))\n",
        "\n",
        "# b=[0]*n\n",
        "# ~\n",
        "# print(*b)\n",
        "\n",
        "# join은 문자열 리스트만 사용 가"
      ],
      "metadata": {
        "colab": {
          "base_uri": "https://localhost:8080/"
        },
        "id": "jfDT7klGMPsp",
        "outputId": "20d3f68a-6a78-4d4c-ef89-8c1f583d250b"
      },
      "execution_count": null,
      "outputs": [
        {
          "output_type": "stream",
          "name": "stdout",
          "text": [
            "5 4\n",
            "1 2 3\n",
            "3 4 4\n",
            "1 4 1\n",
            "2 2 2\n",
            "1 2 1 1 0\n"
          ]
        }
      ]
    },
    {
      "cell_type": "code",
      "source": [
        "# 10813\n",
        "\n",
        "n, m = map(int, input().split())\n",
        "a = [i for i in range(1, n+1)]\n",
        "for _ in range(m):\n",
        "  i, j = map(int, input().split())\n",
        "  a[i-1], a[j-1] = a[j-1], a[i-1]\n",
        "print(*a)\n",
        "\n",
        "# swap\n",
        "\n",
        "# I=lambda:map(int,input().split())\n",
        "# n,m=I()\n",
        "# a=[*range(n+1)]\n",
        "# for _ in' '*m:x,y=I();a[x],a[y]=a[y],a[x]\n",
        "# print(*a[1:])"
      ],
      "metadata": {
        "colab": {
          "base_uri": "https://localhost:8080/"
        },
        "id": "tlrMuc-PNn6t",
        "outputId": "9ce9741c-4e05-45be-ddac-ed747960550c"
      },
      "execution_count": null,
      "outputs": [
        {
          "output_type": "stream",
          "name": "stdout",
          "text": [
            "5 4\n",
            "1 2\n",
            "3 4\n",
            "1 4\n",
            "2 2\n",
            "3 1 4 2 5\n"
          ]
        }
      ]
    },
    {
      "cell_type": "code",
      "source": [
        "# 5597\n",
        "\n",
        "a = [*range(31)]\n",
        "a.remove(0)\n",
        "for _ in range(28):\n",
        "  a.remove(int(input()))\n",
        "print(f\"{min(a)}\\n{max(a)}\")\n",
        "\n",
        "# print(*{*map(int,open(0))}^{*range(1,31)})"
      ],
      "metadata": {
        "colab": {
          "base_uri": "https://localhost:8080/"
        },
        "id": "sJuujYbUTg80",
        "outputId": "bba85727-570d-48e8-efac-64f13c0be3a2"
      },
      "execution_count": null,
      "outputs": [
        {
          "output_type": "stream",
          "name": "stdout",
          "text": [
            "1\n",
            "3\n",
            "4\n",
            "5\n",
            "6\n",
            "7\n",
            "9\n",
            "10\n",
            "2\n",
            "8\n"
          ]
        }
      ]
    },
    {
      "cell_type": "code",
      "source": [
        "# 3052\n",
        "\n",
        "a = [int(input()) % 42 for i in range (10)]\n",
        "print(len(set(a)))\n",
        "\n",
        "# print(len(set([int(input()) % 42 for _ in range(10)])))..."
      ],
      "metadata": {
        "colab": {
          "base_uri": "https://localhost:8080/"
        },
        "id": "h7kJUdwBYD1F",
        "outputId": "3d9c9dc7-e5ec-446d-a312-6edc4f91a6e1"
      },
      "execution_count": null,
      "outputs": [
        {
          "output_type": "stream",
          "name": "stdout",
          "text": [
            "1\n",
            "2\n",
            "3\n",
            "43\n",
            "44\n",
            "45\n",
            "1\n",
            "2\n",
            "3\n",
            "4\n",
            "4\n"
          ]
        }
      ]
    },
    {
      "cell_type": "code",
      "source": [
        "# 10811\n",
        "\n",
        "n, m = map(int, input().split())\n",
        "a = [i for i in range(n+1)]\n",
        "for _ in range(m):\n",
        "  i, j = map(int, input().split())\n",
        "  for k in range((j-i+1)//2):\n",
        "    a[i+k], a[j-k] = a[j-k], a[i+k]\n",
        "print(*a[1:])\n",
        "\n",
        "# for k ~ 대신 [::-1] 슬라이싱\n",
        "# b[i-1:j]=b[i-1:j][::-1]"
      ],
      "metadata": {
        "colab": {
          "base_uri": "https://localhost:8080/"
        },
        "id": "TQV7cpJ4b3hr",
        "outputId": "fe0dbafc-660f-4afd-cc9e-2144d39de060"
      },
      "execution_count": null,
      "outputs": [
        {
          "output_type": "stream",
          "name": "stdout",
          "text": [
            "5 4\n",
            "1 2\n",
            "3 4\n",
            "1 4\n",
            "2 2\n",
            "3 4 1 2 5\n"
          ]
        }
      ]
    },
    {
      "cell_type": "code",
      "source": [
        "# 1546\n",
        "\n",
        "n = int(input())\n",
        "a = list(map(int, input().split()))\n",
        "m = max(a)\n",
        "for i in range(n):\n",
        "  a[i] = a[i]/m * 100\n",
        "print(sum(a)/n)\n",
        "\n",
        "# print(sum(a)/max(a)*100/n)"
      ],
      "metadata": {
        "id": "2_gRsAsmracZ",
        "colab": {
          "base_uri": "https://localhost:8080/"
        },
        "outputId": "f577282d-b7a7-49b9-cb64-a3ac01b5bc08"
      },
      "execution_count": 2,
      "outputs": [
        {
          "output_type": "stream",
          "name": "stdout",
          "text": [
            "3\n",
            "10 20 30\n",
            "66.66666666666667\n"
          ]
        }
      ]
    }
  ]
}
