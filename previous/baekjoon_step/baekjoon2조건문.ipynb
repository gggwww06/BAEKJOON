{
  "nbformat": 4,
  "nbformat_minor": 0,
  "metadata": {
    "colab": {
      "provenance": [],
      "authorship_tag": "ABX9TyM0eJVoT3mffGnozfH9Dd/P",
      "include_colab_link": true
    },
    "kernelspec": {
      "name": "python3",
      "display_name": "Python 3"
    },
    "language_info": {
      "name": "python"
    }
  },
  "cells": [
    {
      "cell_type": "markdown",
      "metadata": {
        "id": "view-in-github",
        "colab_type": "text"
      },
      "source": [
        "<a href=\"https://colab.research.google.com/github/gggwww06/baekjoon_step/blob/main/baekjoon2%EC%A1%B0%EA%B1%B4%EB%AC%B8.ipynb\" target=\"_parent\"><img src=\"https://colab.research.google.com/assets/colab-badge.svg\" alt=\"Open In Colab\"/></a>"
      ]
    },
    {
      "cell_type": "code",
      "execution_count": 3,
      "metadata": {
        "colab": {
          "base_uri": "https://localhost:8080/"
        },
        "id": "pK-R1UN_i-0u",
        "outputId": "bdd98bb6-32b6-4f96-92db-ccb1eb405cca"
      },
      "outputs": [
        {
          "output_type": "stream",
          "name": "stdout",
          "text": [
            "5 5\n",
            "==\n"
          ]
        }
      ],
      "source": [
        "# 1330\n",
        "\n",
        "a, b = map(int, input().split())\n",
        "if a > b:\n",
        "  print(\">\")\n",
        "elif a < b:\n",
        "  print(\"<\")\n",
        "else:\n",
        "  print(\"==\")"
      ]
    },
    {
      "cell_type": "code",
      "source": [
        "# 9498\n",
        "\n",
        "s = int(input())\n",
        "if s >= 90:\n",
        "  print(\"A\")\n",
        "elif s >= 80:\n",
        "  print(\"B\")\n",
        "elif s >= 70:\n",
        "  print(\"C\")\n",
        "elif s >= 60:\n",
        "  print(\"D\")\n",
        "else:\n",
        "  print(\"F\")\n",
        "\n",
        "# print('FFFFFFDCBAA'[int(input())//10])\n",
        "# '문자열'[인덱스]"
      ],
      "metadata": {
        "colab": {
          "base_uri": "https://localhost:8080/"
        },
        "id": "qFHNi9gsmDLH",
        "outputId": "5cce79b1-a78b-4ea6-cc80-0f5e4a495f8d"
      },
      "execution_count": 6,
      "outputs": [
        {
          "output_type": "stream",
          "name": "stdout",
          "text": [
            "90\n",
            "A\n"
          ]
        }
      ]
    },
    {
      "cell_type": "code",
      "source": [
        "# 2753\n",
        "# 연도가 주어졌을 때, 윤년이면 1, 아니면 0을 출력하는 프로그램을 작성하시오.\n",
        "# 윤년은 연도가 4의 배수이면서, 100의 배수가 아닐 때 또는 400의 배수일 때이다.\n",
        "# 예를 들어, 2012년은 4의 배수이면서 100의 배수가 아니라서 윤년이다. 1900년은 100의 배수이고 400의 배수는 아니기 때문에 윤년이 아니다. 하지만, 2000년은 400의 배수이기 때문에 윤년이다.\n",
        "\n",
        "year = int(input())\n",
        "if (year % 400) == 0:\n",
        "  print(\"1\")\n",
        "elif (year % 100) == 0:\n",
        "  print(\"0\")\n",
        "elif (year % 4) == 0:\n",
        "  print(\"1\")\n",
        "else:\n",
        "  print(\"0\")\n",
        "\n",
        "# if (y%4==0 and y%100!=0) or y%400==0: print(1)\n",
        "# else: print(0)"
      ],
      "metadata": {
        "colab": {
          "base_uri": "https://localhost:8080/"
        },
        "id": "hp6s_IXXqHgS",
        "outputId": "773d4bf6-987f-42a9-c6a4-0dd3e703c600"
      },
      "execution_count": 9,
      "outputs": [
        {
          "output_type": "stream",
          "name": "stdout",
          "text": [
            "1900\n",
            "0\n"
          ]
        }
      ]
    },
    {
      "cell_type": "code",
      "source": [
        "# 14681\n",
        "\n",
        "x, y = int(input()), int(input())\n",
        "if (x > 0) and (y > 0):\n",
        "  print(\"1\")\n",
        "elif (x < 0) and (y > 0):\n",
        "  print(\"2\")\n",
        "elif (x < 0) and (y < 0):\n",
        "  print(\"3\")\n",
        "else:\n",
        "  print(\"4\")\n",
        "\n",
        "# print(\"3421\"[x>0::2][y>0])\n",
        "# 문자열 슬라이싱 : x>0이면 [1::2] => 인덱스 1(ture)부터 2개간격->\"41\", x<0이면 [0::2] => 인덱스 0(false)부터 2개간격->\"32\"\n",
        "# 문자열 인덱싱 : ex) x>0, y>0 => \"41\"[1] -> 1, x<0, y<0 => \"32\"[0] -> 3"
      ],
      "metadata": {
        "colab": {
          "base_uri": "https://localhost:8080/"
        },
        "id": "1gXMQ-Jjtq2b",
        "outputId": "8c34e7d7-3e90-44e9-e245-f5009ded9afe"
      },
      "execution_count": 16,
      "outputs": [
        {
          "output_type": "stream",
          "name": "stdout",
          "text": [
            "9\n",
            "-13\n",
            "4\n"
          ]
        }
      ]
    },
    {
      "cell_type": "code",
      "source": [
        "# 2884\n",
        "\n",
        "h, m = map(int, input().split())\n",
        "if (m < 45) and (h == 0):\n",
        "  print(23, m+15)\n",
        "elif m < 45:\n",
        "  print(h-1, m+15)\n",
        "else:\n",
        "  print(h, m-45)\n",
        "\n",
        "# print(f\"{(h-(m<45))%24} {(m+15)%60}\")\n",
        "# f-string 포맷 : print(f\"문자열{변수}문자열{변수}\")"
      ],
      "metadata": {
        "colab": {
          "base_uri": "https://localhost:8080/"
        },
        "id": "HcctA2aa3Cgy",
        "outputId": "fe89811a-2ad4-427c-c4e2-33d036477775"
      },
      "execution_count": 20,
      "outputs": [
        {
          "output_type": "stream",
          "name": "stdout",
          "text": [
            "0 45\n",
            "0 0\n"
          ]
        }
      ]
    },
    {
      "cell_type": "code",
      "source": [
        "# 2525\n",
        "\n",
        "h, m = map(int, input().split())\n",
        "t = int(input())\n",
        "print(f\"{(h + (t + m)//60) % 24} {(t + m) % 60}\")"
      ],
      "metadata": {
        "colab": {
          "base_uri": "https://localhost:8080/"
        },
        "id": "_mdsdiFf9D5M",
        "outputId": "3f1593ee-ae93-4ef8-c10e-a005c8272901"
      },
      "execution_count": 28,
      "outputs": [
        {
          "output_type": "stream",
          "name": "stdout",
          "text": [
            "23 48\n",
            "25\n",
            "0 13\n"
          ]
        }
      ]
    },
    {
      "cell_type": "code",
      "source": [
        "# 2480\n",
        "\n",
        "a = list(map(int, input().split()))\n",
        "a.sort()\n",
        "if a[0] == a[2]:\n",
        "  print(10000 + a[1]*1000)\n",
        "elif a[0] == a[1]:\n",
        "  print(1000 + a[1]*100)\n",
        "elif a[1] == a[2]:\n",
        "  print(1000 + a[1]*100)\n",
        "else:\n",
        "  print(a[2]*100)\n",
        "\n",
        "# a,b,c=sorted(map(int,input().split()))\n",
        "# if a==c:print(10000+b*1000)\n",
        "# elif a!=b and b!=c:print(c*100)\n",
        "# else:print(1000+100*b)\n",
        "\n",
        "# print([c,b+10,b*10+100][[a,b,c].count(b)-1]*100)\n",
        "\n",
        "# *_,a,b,c=sorted(input());\n",
        "# print(['1'+b,c][a<b<c]+'000'[a<c:])\n",
        "# *_ : 여러 개의 값을 무시\n",
        "# '000'[a<c:] : a<c가 참이면 [1:] => '00'"
      ],
      "metadata": {
        "colab": {
          "base_uri": "https://localhost:8080/"
        },
        "id": "1-GgNtSK-2fg",
        "outputId": "8449d184-1a64-4055-eb6f-f1f921c02910"
      },
      "execution_count": 51,
      "outputs": [
        {
          "output_type": "stream",
          "name": "stdout",
          "text": [
            "3 5 5\n",
            "1500\n"
          ]
        }
      ]
    },
    {
      "cell_type": "code",
      "source": [
        "1<2<3"
      ],
      "metadata": {
        "colab": {
          "base_uri": "https://localhost:8080/"
        },
        "id": "7tPDoO-sUVM8",
        "outputId": "eba548eb-d95d-4986-cd9c-6653571881c0"
      },
      "execution_count": 52,
      "outputs": [
        {
          "output_type": "execute_result",
          "data": {
            "text/plain": [
              "True"
            ]
          },
          "metadata": {},
          "execution_count": 52
        }
      ]
    },
    {
      "cell_type": "code",
      "source": [
        "a, *_, b = 1, 2, 3, 4, 5\n",
        "print(_)"
      ],
      "metadata": {
        "colab": {
          "base_uri": "https://localhost:8080/"
        },
        "id": "gcM-40egaYc2",
        "outputId": "9a6b2454-de2d-4ab5-fd35-5a26fe9c4d9f"
      },
      "execution_count": 53,
      "outputs": [
        {
          "output_type": "stream",
          "name": "stdout",
          "text": [
            "[2, 3, 4]\n"
          ]
        }
      ]
    }
  ]
}
