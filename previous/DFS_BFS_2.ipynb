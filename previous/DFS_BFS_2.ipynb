{
  "nbformat": 4,
  "nbformat_minor": 0,
  "metadata": {
    "colab": {
      "provenance": [],
      "authorship_tag": "ABX9TyPJJQmsxOg/yRBU44/yPejB",
      "include_colab_link": true
    },
    "kernelspec": {
      "name": "python3",
      "display_name": "Python 3"
    },
    "language_info": {
      "name": "python"
    }
  },
  "cells": [
    {
      "cell_type": "markdown",
      "metadata": {
        "id": "view-in-github",
        "colab_type": "text"
      },
      "source": [
        "<a href=\"https://colab.research.google.com/github/gggwww06/baekjoon/blob/main/DFS_BFS_2.ipynb\" target=\"_parent\"><img src=\"https://colab.research.google.com/assets/colab-badge.svg\" alt=\"Open In Colab\"/></a>"
      ]
    },
    {
      "cell_type": "markdown",
      "source": [
        "# **1926 - DFS**"
      ],
      "metadata": {
        "id": "mvrnl4oXKbem"
      }
    },
    {
      "cell_type": "code",
      "execution_count": null,
      "metadata": {
        "colab": {
          "base_uri": "https://localhost:8080/"
        },
        "id": "AvWOHaqR4dbB",
        "outputId": "f84b151c-955c-4417-8246-3cdf5bfe9eec"
      },
      "outputs": [
        {
          "output_type": "stream",
          "name": "stdout",
          "text": [
            "1 1\n",
            "1\n",
            "1\n",
            "1\n"
          ]
        }
      ],
      "source": [
        "# 1926\n",
        "\n",
        "import sys\n",
        "sys.setrecursionlimit(10**6)\n",
        "\n",
        "def dfs(x,y):\n",
        "  if x<=-1 or x>=n or y<=-1 or y>=m:\n",
        "    return False\n",
        "  if graph[x][y] == 1:\n",
        "    graph[x][y] = 0\n",
        "    size[0] += 1\n",
        "    dfs(x+1,y)\n",
        "    dfs(x-1,y)\n",
        "    dfs(x,y+1)\n",
        "    dfs(x,y-1)\n",
        "    return size[0]\n",
        "  return False\n",
        "\n",
        "n, m = map(int, input().split())\n",
        "graph = [list(map(int, input().split())) for _ in range(n)]\n",
        "res = []\n",
        "size = [0]\n",
        "for i in range(n):\n",
        "  for j in range(m):\n",
        "    size[0] = 0\n",
        "    k = dfs(i,j)\n",
        "    if k > 0:\n",
        "      res.append(k)\n",
        "\n",
        "if len(res) == 0:\n",
        "  print(\"0\\n0\")\n",
        "else:\n",
        "  print(f\"{len(res)}\\n{max(res)}\")"
      ]
    },
    {
      "cell_type": "code",
      "source": [
        "# 1926 bfs 참고\n",
        "import sys\n",
        "from collections import deque\n",
        "\n",
        "def solution():\n",
        "    input = sys.stdin.readline\n",
        "\n",
        "    R, C = map(int, input().split())\n",
        "    picture = [list(map(int, input().split())) for _ in range(R)]\n",
        "\n",
        "    answer = []\n",
        "    for r in range(R):\n",
        "        for c in range(C):\n",
        "            if picture[r][c] == 1:\n",
        "                answer.append(bfs(R, C, picture, r, c))\n",
        "\n",
        "    print(len(answer))\n",
        "    print(max(answer) if answer else 0)\n",
        "\n",
        "def bfs(R, C, picture, r, c):\n",
        "\n",
        "    q = deque()\n",
        "\n",
        "    q.append((r, c))\n",
        "    picture[r][c] = 0\n",
        "\n",
        "    count = 0\n",
        "    while q:\n",
        "\n",
        "        r, c = q.popleft()\n",
        "        count += 1\n",
        "\n",
        "        for (dr, dc) in [(0, 1), (0, -1), (1, 0), (-1, 0)]:\n",
        "\n",
        "            nr = r + dr\n",
        "            nc = c + dc\n",
        "\n",
        "            if nr < 0 or nr >= R or nc < 0 or nc >= C or picture[nr][nc] == 0:\n",
        "                continue\n",
        "\n",
        "            q.append((nr, nc))\n",
        "            picture[nr][nc] = 0\n",
        "\n",
        "    return count\n",
        "\n",
        "solution()"
      ],
      "metadata": {
        "id": "bLW6ZdvsVc_t"
      },
      "execution_count": null,
      "outputs": []
    },
    {
      "cell_type": "markdown",
      "source": [
        "# **11060 - BFS**"
      ],
      "metadata": {
        "id": "kJEsnnytKL2a"
      }
    },
    {
      "cell_type": "code",
      "source": [
        "# 11060\n",
        "\n",
        "from collections import deque\n",
        "\n",
        "def bfs(x):\n",
        "  q = deque()\n",
        "  q.append(x)\n",
        "\n",
        "  while q:\n",
        "    x = q.popleft()\n",
        "    for i in range(a[x]+1):\n",
        "      nx = x + i\n",
        "      if nx >= n:\n",
        "        continue\n",
        "      if g[nx] == False:\n",
        "        g[nx] = g[x] + 1\n",
        "        q.append(nx)\n",
        "  return g[n-1]\n",
        "\n",
        "n = int(input())\n",
        "a = list(map(int, input().split()))\n",
        "g = [False]*(len(a))\n",
        "\n",
        "answer = bfs(0)\n",
        "print(answer-1 if answer else -1)"
      ],
      "metadata": {
        "colab": {
          "base_uri": "https://localhost:8080/"
        },
        "id": "3hXOzUh7939G",
        "outputId": "70d32f90-3bf2-4bca-d8ee-5ab67c9abf5a"
      },
      "execution_count": null,
      "outputs": [
        {
          "output_type": "stream",
          "name": "stdout",
          "text": [
            "10\n",
            "1 2 0 1 3 2 1 5 4 2\n",
            "5\n"
          ]
        }
      ]
    },
    {
      "cell_type": "code",
      "source": [
        "# 11060 참고\n",
        "\n",
        "N = int(input())\n",
        "nums = list(map(int, input().split()))\n",
        "visited = [-1] * N\n",
        "visited[0] = 0\n",
        "q = [0]\n",
        "\n",
        "for n in q:\n",
        "    for i in range(n + 1, n + nums[n] + 1):\n",
        "        if 0 <= i < N and visited[i] == -1:\n",
        "            q.append(i)\n",
        "            visited[i] = visited[n] + 1\n",
        "print(visited[-1])\n"
      ],
      "metadata": {
        "colab": {
          "base_uri": "https://localhost:8080/"
        },
        "id": "iVKaWo_VIGXW",
        "outputId": "b15ee4e8-d567-4ccc-c90d-304522052f33"
      },
      "execution_count": null,
      "outputs": [
        {
          "output_type": "stream",
          "name": "stdout",
          "text": [
            "1\n",
            "1\n",
            "0\n"
          ]
        }
      ]
    },
    {
      "cell_type": "markdown",
      "source": [
        "# **2573 - DFS/BFS**"
      ],
      "metadata": {
        "id": "78b9etbZuv7m"
      }
    },
    {
      "cell_type": "code",
      "source": [
        "# 2573\n",
        "\n",
        "from collections import deque\n",
        "\n",
        "def bfs():  # 1년 지날 때\n",
        "  q = deque()\n",
        "  for i in range(n):\n",
        "    for j in range(m):\n",
        "      k = g[i][j]\n",
        "      if k:\n",
        "        q.append((i,j))\n",
        "  dx = [1,-1,0,0]\n",
        "  dy = [0,0,1,-1]\n",
        "  while q:\n",
        "    x, y = q.popleft()\n",
        "    sea = 0\n",
        "    for i in range(4):\n",
        "      nx, ny = x+dx[i], y+dy[i]\n",
        "      if nx <= -1 or nx >=n or ny <=-1 or ny >= m:\n",
        "        continue\n",
        "      elif g[nx][ny] == 0:\n",
        "        sea += 1\n",
        "    k = g[x][y] - sea\n",
        "    g2[x][y] = k if k>0 else 0\n",
        "\n",
        "def dfs(x,y,g3):\n",
        "  if x <= -1 or x >=n or y <=-1 or y >= m:\n",
        "    return False\n",
        "  if g3[x][y]:\n",
        "    g3[x][y] = 0\n",
        "    dfs(x+1,y,g3)\n",
        "    dfs(x-1,y,g3)\n",
        "    dfs(x,y+1,g3)\n",
        "    dfs(x,y-1,g3)\n",
        "    return True\n",
        "  return False\n",
        "\n",
        "def iceb(g): # 덩어리 수\n",
        "  res = 0\n",
        "  g3=[]\n",
        "  for i in g:\n",
        "    g3.append(i)\n",
        "  for i in range(n):\n",
        "    for j in range(m):\n",
        "      if dfs(i,j,g3):\n",
        "        res += 1\n",
        "  return res\n",
        "\n",
        "n, m, *a = map(int, input().split())\n",
        "g = [a[i*m:(i+1)*m] for i in range(n)]\n",
        "# a = map(int, open(0).read().split())\n",
        "# n, m, g = a[0], a[1], [a[2+i*m:2+(i+1)*m] for i in range(n)]\n",
        "g2 = [[0]*m for i in range(n)]\n",
        "year = 0\n",
        "g3 = []\n",
        "k = iceb(g)\n",
        "while(k<2):\n",
        "  bfs()\n",
        "  print(g2)\n",
        "  # g, g2 갱신\n",
        "  g = []\n",
        "  for i in g2:\n",
        "    g.append(i)\n",
        "  g2 = [[0]*m for i in range(n)]\n",
        "  year += 1\n",
        "  k = iceb(g)\n",
        "  break\n",
        "\n",
        "# print(iceb())\n",
        "# print(year if k else 0)\n",
        "# print(g)\n",
        "# print(g2)\n",
        "# print(g3)\n",
        "\n",
        "# 리스트 주소 다 합쳐버려서 이사감"
      ],
      "metadata": {
        "colab": {
          "base_uri": "https://localhost:8080/"
        },
        "id": "O3HHzSwku63l",
        "outputId": "dfa70cde-2378-4a7d-bdf0-f12deca307d1"
      },
      "execution_count": 57,
      "outputs": [
        {
          "output_type": "stream",
          "name": "stdout",
          "text": [
            "5 7 0 0 0 0 0 0 0 0 2 4 5 3 0 0 0 3 0 2 5 2 0 0 7 6 2 4 0 0 0 0 0 0 0 0 0\n",
            "[[0, 0, 0, 0, 0, 0, 0], [0, 0, 0, 0, 0, 0, 0], [0, 0, 0, 0, 0, 0, 0], [0, 0, 0, 0, 0, 0, 0], [0, 0, 0, 0, 0, 0, 0]]\n"
          ]
        }
      ]
    },
    {
      "cell_type": "code",
      "source": [
        "def dd(a):\n",
        "  a[0] = 3\n",
        "  return a\n",
        "\n",
        "a = [1,[1,2]]\n",
        "c=[]\n",
        "for i in a:\n",
        "  c.append(i)\n",
        "a2 = a[:]\n",
        "b = dd(a)\n",
        "d = a2\n",
        "print(a)\n",
        "print(b)\n",
        "print(c)\n",
        "print(d)"
      ],
      "metadata": {
        "colab": {
          "base_uri": "https://localhost:8080/"
        },
        "id": "ltAt1iIy12cl",
        "outputId": "aad6cd68-bb77-41fb-f28a-b6380cf32e0b"
      },
      "execution_count": 58,
      "outputs": [
        {
          "output_type": "stream",
          "name": "stdout",
          "text": [
            "[3, [1, 2]]\n",
            "[3, [1, 2]]\n",
            "[1, [1, 2]]\n",
            "[1, [1, 2]]\n"
          ]
        }
      ]
    }
  ]
}