{
  "nbformat": 4,
  "nbformat_minor": 0,
  "metadata": {
    "colab": {
      "provenance": [],
      "authorship_tag": "ABX9TyNGkrBGQaATdbIXaqWWNgZi",
      "include_colab_link": true
    },
    "kernelspec": {
      "name": "python3",
      "display_name": "Python 3"
    },
    "language_info": {
      "name": "python"
    }
  },
  "cells": [
    {
      "cell_type": "markdown",
      "metadata": {
        "id": "view-in-github",
        "colab_type": "text"
      },
      "source": [
        "<a href=\"https://colab.research.google.com/github/gggwww06/baekjoon/blob/main/DFS_BFS.ipynb\" target=\"_parent\"><img src=\"https://colab.research.google.com/assets/colab-badge.svg\" alt=\"Open In Colab\"/></a>"
      ]
    },
    {
      "cell_type": "code",
      "execution_count": 25,
      "metadata": {
        "colab": {
          "base_uri": "https://localhost:8080/"
        },
        "id": "goxoQZd_JLCJ",
        "outputId": "b8ed796f-56ad-4cd3-8e13-721ca7f02b6f"
      },
      "outputs": [
        {
          "output_type": "stream",
          "name": "stdout",
          "text": [
            "1000 1 1000 999 1000\n",
            "1000 999 \n",
            "1000 999 "
          ]
        }
      ],
      "source": [
        "# 1260\n",
        "\n",
        "from collections import deque\n",
        "\n",
        "def dfs(g,x,visit):\n",
        "  visit[x] = True\n",
        "  print(x, end=\" \")\n",
        "  for i in g[x]:\n",
        "    if not visit[i]:\n",
        "      dfs(g,i,visit)\n",
        "\n",
        "def bfs(g,x,visit2):\n",
        "  q = deque([x])\n",
        "  visit2[x] = True\n",
        "  while q:\n",
        "    y = q.popleft()\n",
        "    print(y, end=\" \")\n",
        "    for i in g[y]:\n",
        "      if not visit2[i]:\n",
        "        q.append(i)\n",
        "        visit2[i] = True\n",
        "\n",
        "n, m, v, *a = map(int,input().split())\n",
        "# n, m, v, *a = map(int,open(0).read().split())\n",
        "g = [[] for i in range(n+1)]\n",
        "visit = [False] * (n+1)\n",
        "visit2 = [False] * (n+1)\n",
        "for i in range(m):\n",
        "  b, c = a[i*2], a[i*2+1]\n",
        "  g[b].append(c)\n",
        "  g[c].append(b)\n",
        "for i in range(n+1):\n",
        "  g[i] = sorted(list(set(g[i])))\n",
        "dfs(g,v,visit)\n",
        "print()\n",
        "bfs(g,v,visit2)\n",
        "\n",
        "# deque 안 쓰고 구현 : queue.pop(0)\n",
        "# def bfs(n):\n",
        "#     visited[n] = True\n",
        "#     queue = [n]\n",
        "#     while queue:\n",
        "#         v = queue.pop(0)\n",
        "#         bfs_list.append(v)\n",
        "#         for w in sorted(adj_list[v]):\n",
        "#             if not visited[w]:\n",
        "#                 visited[w] = True\n",
        "#                 queue.append(w)"
      ]
    },
    {
      "cell_type": "code",
      "source": [
        "# 2667\n",
        "\n",
        "def dfs(x,y):\n",
        "  if x <= -1 or x >= n or y <= -1 or y >= n:\n",
        "    return False\n",
        "  if graph[x][y] == 1:\n",
        "    graph[x][y] = 0\n",
        "    global hn\n",
        "    hn += 1\n",
        "    dfs(x+1,y)\n",
        "    dfs(x-1,y)\n",
        "    dfs(x,y+1)\n",
        "    dfs(x,y-1)\n",
        "    return True\n",
        "  return False\n",
        "\n",
        "n = int(input())\n",
        "graph = [list(map(int, input())) for i in range(n)]\n",
        "cnt = 0\n",
        "house = []\n",
        "hn = 0\n",
        "for i in range(n):\n",
        "  for j in range(n):\n",
        "    if dfs(i,j):\n",
        "      cnt += 1\n",
        "      house.append(hn)\n",
        "      hn = 0\n",
        "print(cnt)\n",
        "print(\"\\n\".join(map(str,sorted(house))))"
      ],
      "metadata": {
        "colab": {
          "base_uri": "https://localhost:8080/"
        },
        "id": "YGFZ3qBn3hIj",
        "outputId": "3bcdf228-1d89-49e6-af14-99da70e0d13a"
      },
      "execution_count": 25,
      "outputs": [
        {
          "output_type": "stream",
          "name": "stdout",
          "text": [
            "7\n",
            "0110100\n",
            "0110101\n",
            "1110101\n",
            "0000111\n",
            "0100000\n",
            "0111110\n",
            "0111000\n",
            "3\n",
            "7\n",
            "8\n",
            "9\n"
          ]
        }
      ]
    },
    {
      "cell_type": "code",
      "source": [
        "b = 4\n",
        "if b:\n",
        "  print(b)"
      ],
      "metadata": {
        "colab": {
          "base_uri": "https://localhost:8080/"
        },
        "id": "raKqdVdSqFSl",
        "outputId": "ff9a7ad8-ecee-42e0-9651-c81c4504b187"
      },
      "execution_count": 14,
      "outputs": [
        {
          "output_type": "stream",
          "name": "stdout",
          "text": [
            "4\n"
          ]
        }
      ]
    }
  ]
}