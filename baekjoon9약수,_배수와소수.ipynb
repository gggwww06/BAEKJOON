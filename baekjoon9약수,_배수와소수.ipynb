{
  "nbformat": 4,
  "nbformat_minor": 0,
  "metadata": {
    "colab": {
      "provenance": [],
      "authorship_tag": "ABX9TyNZHTpyE0PyUtUX3mlnvbmo",
      "include_colab_link": true
    },
    "kernelspec": {
      "name": "python3",
      "display_name": "Python 3"
    },
    "language_info": {
      "name": "python"
    }
  },
  "cells": [
    {
      "cell_type": "markdown",
      "metadata": {
        "id": "view-in-github",
        "colab_type": "text"
      },
      "source": [
        "<a href=\"https://colab.research.google.com/github/gggwww06/baekjoon_step/blob/main/baekjoon9%EC%95%BD%EC%88%98%2C_%EB%B0%B0%EC%88%98%EC%99%80%EC%86%8C%EC%88%98.ipynb\" target=\"_parent\"><img src=\"https://colab.research.google.com/assets/colab-badge.svg\" alt=\"Open In Colab\"/></a>"
      ]
    },
    {
      "cell_type": "code",
      "execution_count": 15,
      "metadata": {
        "colab": {
          "base_uri": "https://localhost:8080/"
        },
        "id": "nKDErV_i7CGI",
        "outputId": "4ce28c23-e387-43ca-beb2-3187da00bc5b"
      },
      "outputs": [
        {
          "output_type": "stream",
          "name": "stdout",
          "text": [
            "9991\n",
            "97\n",
            "103\n"
          ]
        }
      ],
      "source": [
        "# 11653\n",
        "\n",
        "n = int(input())\n",
        "i = 2\n",
        "while n != 1:\n",
        "  if n%i == 0:\n",
        "    n //= i\n",
        "    print(i)\n",
        "    continue\n",
        "  else:\n",
        "    i += 1"
      ]
    }
  ]
}