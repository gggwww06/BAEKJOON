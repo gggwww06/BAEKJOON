{
  "nbformat": 4,
  "nbformat_minor": 0,
  "metadata": {
    "colab": {
      "provenance": [],
      "authorship_tag": "ABX9TyOxDqXN3DGB0E3IubRsUljN",
      "include_colab_link": true
    },
    "kernelspec": {
      "name": "python3",
      "display_name": "Python 3"
    },
    "language_info": {
      "name": "python"
    }
  },
  "cells": [
    {
      "cell_type": "markdown",
      "metadata": {
        "id": "view-in-github",
        "colab_type": "text"
      },
      "source": [
        "<a href=\"https://colab.research.google.com/github/gggwww06/baekjoon_step/blob/main/baekjoon7_2%EC%B0%A8%EC%9B%90_%EB%B0%B0%EC%97%B4.ipynb\" target=\"_parent\"><img src=\"https://colab.research.google.com/assets/colab-badge.svg\" alt=\"Open In Colab\"/></a>"
      ]
    },
    {
      "cell_type": "code",
      "execution_count": 20,
      "metadata": {
        "colab": {
          "base_uri": "https://localhost:8080/"
        },
        "id": "D0Y1YbaWzzck",
        "outputId": "7749989f-98c8-4e6f-b3c1-fd496fafe485"
      },
      "outputs": [
        {
          "output_type": "stream",
          "name": "stdout",
          "text": [
            "3 3\n",
            "1 1 1\n",
            "2 2 2\n",
            "0 1 10\n",
            "3 3 3\n",
            "4 4 4\n",
            "5 5 100\n",
            "4 4 4 \n",
            "6 6 6 \n",
            "5 6 110 \n"
          ]
        }
      ],
      "source": [
        "# 2738\n",
        "\n",
        "n, m = map(int, input().split())\n",
        "k1 = [list(map(int, input().split())) for i in range(n)]\n",
        "k2 = [list(map(int, input().split())) for i in range(n)]\n",
        "for i in range(n):\n",
        "  for j in range(m):\n",
        "    print(f\"{k1[i][j] + k2[i][j]} \", end=\"\")\n",
        "  print()"
      ]
    },
    {
      "cell_type": "code",
      "source": [
        "# 2566\n",
        "\n",
        "k = [list(map(int, input().split())) for _ in range(9)]\n",
        "m = [max(k[i]) for i in range(9)]\n",
        "print(max(m))\n",
        "print(m.index(max(m))+1, k[m.index(max(m))].index(max(m))+1)\n",
        "\n",
        "# m=(l:=sum([list(map(int,input().split()))for _ in range(9)],[])).index(a:=max(l))\n",
        "# print((m)//9+1,(m)%9+1)"
      ],
      "metadata": {
        "colab": {
          "base_uri": "https://localhost:8080/"
        },
        "id": "RV2qNfPoARYP",
        "outputId": "c9b8fd95-f243-4136-80f7-5e66772f886b"
      },
      "execution_count": 39,
      "outputs": [
        {
          "output_type": "stream",
          "name": "stdout",
          "text": [
            "3 23 85 34 17 74 25 52 65\n",
            "10 7 39 42 88 52 14 72 63\n",
            "87 42 18 78 53 45 18 84 53\n",
            "34 28 64 85 12 16 75 36 55\n",
            "21 77 45 35 28 75 90 76 1\n",
            "25 87 65 15 28 11 37 28 74\n",
            "65 27 75 41 7 89 78 64 39\n",
            "47 47 70 45 23 65 3 41 44\n",
            "87 13 82 38 31 12 29 29 80\n",
            "90\n",
            "5 7\n"
          ]
        }
      ]
    },
    {
      "cell_type": "code",
      "source": [
        "# 10798\n",
        "\n",
        "s = []\n",
        "for i in range(5):\n",
        "  s.append(input())\n",
        "for i in range(15):\n",
        "  for j in range(5):\n",
        "    if len(s[j]) > i:\n",
        "      print(s[j][i], end=\"\")\n",
        "\n",
        "# li = ['']*75\n",
        "# for i in range(5):\n",
        "#     S = input()\n",
        "#     idx = i\n",
        "#     for c in S:\n",
        "#         li[idx] = c\n",
        "#         idx += 5\n",
        "# print(''.join(li))"
      ],
      "metadata": {
        "colab": {
          "base_uri": "https://localhost:8080/"
        },
        "id": "xGGp7JtrEoC-",
        "outputId": "71e8070b-1120-4ee9-a098-79be580311df"
      },
      "execution_count": 48,
      "outputs": [
        {
          "output_type": "stream",
          "name": "stdout",
          "text": [
            "123\n",
            "123\n",
            "123\n",
            "1234\n",
            "12345678\n",
            "111112222233333445678"
          ]
        }
      ]
    },
    {
      "cell_type": "code",
      "source": [
        "# 2563\n",
        "\n",
        "n = int(input())\n",
        "p = [[0]*100 for _ in range(100)]\n",
        "for i in range(n):\n",
        "  a, b = map(int, input().split())\n",
        "  for j in range(10):\n",
        "    for k in range(10):\n",
        "      p[a+j][b+k] = 1\n",
        "print(sum(p[i].count(1) for i in range(100)))\n",
        "\n",
        "# a=[101*[0]for _ in range(101)]\n",
        "# for z in[*open(0)][1:]:\n",
        "# \tx,y=map(int,z.split())\n",
        "# \tfor v in range(y,y+10):\n",
        "#     a[v][x:x+10]=[1]*10\n",
        "# print(sum(map(sum,a)))"
      ],
      "metadata": {
        "colab": {
          "base_uri": "https://localhost:8080/"
        },
        "id": "GH1RmQW7Ojxz",
        "outputId": "4883f170-7c20-48e5-894a-bba9796104fe"
      },
      "execution_count": 69,
      "outputs": [
        {
          "output_type": "stream",
          "name": "stdout",
          "text": [
            "3\n",
            "3 7\n",
            "15 7\n",
            "5 2\n",
            "260\n"
          ]
        }
      ]
    },
    {
      "cell_type": "code",
      "source": [
        "print(sum(map(sum, [[1,1,0],[1,0,0]])))\n",
        "*a, b = map(sum, [[1,1,0],[1,0,0],[0,0,0]])\n",
        "print(a, b)"
      ],
      "metadata": {
        "colab": {
          "base_uri": "https://localhost:8080/"
        },
        "id": "tTXLLoIsWzcE",
        "outputId": "30e53104-506e-4745-dfff-43c01a673b46"
      },
      "execution_count": 81,
      "outputs": [
        {
          "output_type": "stream",
          "name": "stdout",
          "text": [
            "3\n",
            "[2, 1] 0\n"
          ]
        }
      ]
    }
  ]
}