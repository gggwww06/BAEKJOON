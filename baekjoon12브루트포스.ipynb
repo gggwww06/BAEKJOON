{
  "nbformat": 4,
  "nbformat_minor": 0,
  "metadata": {
    "colab": {
      "provenance": [],
      "authorship_tag": "ABX9TyPSs5wZxgm3Rjevx6Exrgpc",
      "include_colab_link": true
    },
    "kernelspec": {
      "name": "python3",
      "display_name": "Python 3"
    },
    "language_info": {
      "name": "python"
    }
  },
  "cells": [
    {
      "cell_type": "markdown",
      "metadata": {
        "id": "view-in-github",
        "colab_type": "text"
      },
      "source": [
        "<a href=\"https://colab.research.google.com/github/gggwww06/baekjoon_step/blob/main/baekjoon12%EB%B8%8C%EB%A3%A8%ED%8A%B8%ED%8F%AC%EC%8A%A4.ipynb\" target=\"_parent\"><img src=\"https://colab.research.google.com/assets/colab-badge.svg\" alt=\"Open In Colab\"/></a>"
      ]
    },
    {
      "cell_type": "code",
      "execution_count": 28,
      "metadata": {
        "colab": {
          "base_uri": "https://localhost:8080/"
        },
        "id": "pSVp7MeuZ5gn",
        "outputId": "d1688efc-78fe-4104-b4a6-22c8debf06ef"
      },
      "outputs": [
        {
          "output_type": "stream",
          "name": "stdout",
          "text": [
            "234\n",
            "48\n"
          ]
        }
      ],
      "source": [
        "# 2839\n",
        "\n",
        "n = int(input())\n",
        "s = 0\n",
        "for i in range(n//5,-1,-1):\n",
        "  if n - 5*i == 0:\n",
        "    s = i\n",
        "  else:\n",
        "    for j in range((n - 5*i)//3, 0, -1):\n",
        "      if n - 5*i - 3*j == 0:\n",
        "        if s == 0:\n",
        "          s = i+j\n",
        "print([-1, s][s>0])\n",
        "\n",
        "# 5로 나눠질때까지 3씩 빼기\n",
        "# while x >= 0:\n",
        "#     if x % 5 == 0:\n",
        "#         a += (x//5)\n",
        "#         print(a)\n",
        "#         break\n",
        "#     x = x - 3\n",
        "#     a = a + 1\n",
        "# else:\n",
        "#     print(-1)\n",
        "\n",
        "# print([N//5+[0,1,2,1,2][N%5],-1][N in [4,7]])\n",
        "# 3과 5의 합으로 나타낼 수 없는 수는 4, 7 밖에 없음 -> [[],-1][1] -> -1\n",
        "# n을 5로 나누었을 때 나머지가 0,1,2,3,4 -> 이때 n//5에서 3을 생각해 더해야 할 수가 0,1,2,1,2"
      ]
    }
  ]
}