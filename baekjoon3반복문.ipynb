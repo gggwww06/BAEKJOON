{
  "nbformat": 4,
  "nbformat_minor": 0,
  "metadata": {
    "colab": {
      "provenance": [],
      "authorship_tag": "ABX9TyP0kn0IFGtrIIp0f0fM4GnX",
      "include_colab_link": true
    },
    "kernelspec": {
      "name": "python3",
      "display_name": "Python 3"
    },
    "language_info": {
      "name": "python"
    }
  },
  "cells": [
    {
      "cell_type": "markdown",
      "metadata": {
        "id": "view-in-github",
        "colab_type": "text"
      },
      "source": [
        "<a href=\"https://colab.research.google.com/github/gggwww06/baekjoon_step/blob/main/baekjoon3%EB%B0%98%EB%B3%B5%EB%AC%B8.ipynb\" target=\"_parent\"><img src=\"https://colab.research.google.com/assets/colab-badge.svg\" alt=\"Open In Colab\"/></a>"
      ]
    },
    {
      "cell_type": "code",
      "execution_count": null,
      "metadata": {
        "colab": {
          "base_uri": "https://localhost:8080/"
        },
        "id": "yYJcZ2F12TNg",
        "outputId": "42380b97-d5a5-44e7-cae0-2a4d4058c4fc"
      },
      "outputs": [
        {
          "output_type": "stream",
          "name": "stdout",
          "text": [
            "2\n",
            "2 * 1 = 2\n",
            "2 * 2 = 4\n",
            "2 * 3 = 6\n",
            "2 * 4 = 8\n",
            "2 * 5 = 10\n",
            "2 * 6 = 12\n",
            "2 * 7 = 14\n",
            "2 * 8 = 16\n",
            "2 * 9 = 18\n"
          ]
        }
      ],
      "source": [
        "# 2739\n",
        "\n",
        "n = int(input())\n",
        "for i in range(1, 10):\n",
        "  print(f\"{n} * {i} = {n*i}\")"
      ]
    },
    {
      "cell_type": "code",
      "source": [
        "# 10950\n",
        "\n",
        "n = int(input())\n",
        "for i in range(n):\n",
        "  a, b = map(int, input().split())\n",
        "  print(a + b)\n",
        "\n",
        "  # c = sum(map(int, i.split()))\n",
        "  # print(c)"
      ],
      "metadata": {
        "colab": {
          "base_uri": "https://localhost:8080/"
        },
        "id": "b2Ho78bQ3aD2",
        "outputId": "802ea18d-2bfa-4a49-bdd6-8cc1a17661c7"
      },
      "execution_count": null,
      "outputs": [
        {
          "output_type": "stream",
          "name": "stdout",
          "text": [
            "5\n",
            "1 1\n",
            "2\n",
            "2 3\n",
            "5\n",
            "3 4\n",
            "7\n",
            "9 8\n",
            "17\n",
            "5 2\n",
            "7\n"
          ]
        }
      ]
    },
    {
      "cell_type": "code",
      "source": [
        "# 8393\n",
        "\n",
        "n = int(input())\n",
        "s = 0\n",
        "for i in range(n + 1):\n",
        "  s += i\n",
        "print(s)\n",
        "\n",
        "# print(n*(n+1)//2)...\n",
        "# print(sum(range(num+1)))..."
      ],
      "metadata": {
        "colab": {
          "base_uri": "https://localhost:8080/"
        },
        "id": "KgIn_o3mA1U_",
        "outputId": "3693556b-a15f-4593-af4f-77f9b3a52767"
      },
      "execution_count": null,
      "outputs": [
        {
          "output_type": "stream",
          "name": "stdout",
          "text": [
            "5\n",
            "15\n"
          ]
        }
      ]
    },
    {
      "cell_type": "code",
      "source": [
        "# 25304\n",
        "\n",
        "s, n = int(input()), int(input())\n",
        "for i in range(n):\n",
        "  a, b = map(int, input().split())\n",
        "  s -= a * b\n",
        "if s == 0:\n",
        "  print(\"Yes\")\n",
        "else:\n",
        "  print(\"No\")\n",
        "\n",
        "# for i in range(int(input())):\n",
        "# 사이는 위 코드와 같음\n",
        "# print(\"No\" if a else \"Yes\")\n",
        "\n",
        "# a,*l=map(int,open(0).read().split())\n",
        "# print(['No','Yes'][a==sum(i*j for i,j in zip(l[1::2],l[2::2]))])"
      ],
      "metadata": {
        "colab": {
          "base_uri": "https://localhost:8080/"
        },
        "id": "4QE6ZqdbB2kG",
        "outputId": "dd42e620-5894-4171-dee6-70c0910bed1d"
      },
      "execution_count": null,
      "outputs": [
        {
          "output_type": "stream",
          "name": "stdout",
          "text": [
            "260000\n",
            "4\n",
            "20000 5\n",
            "30000 2\n",
            "10000 6\n",
            "5000 8\n",
            "Yes\n"
          ]
        }
      ]
    },
    {
      "cell_type": "code",
      "source": [
        "# 25314\n",
        "\n",
        "n = int(input())\n",
        "for i in range((n-1)//4):\n",
        "  print(\"long\", end=\" \")\n",
        "print(\"long int\")\n",
        "\n",
        "# print(int(input())//4*'long '+'int')"
      ],
      "metadata": {
        "id": "tgfwmxgQEcOS",
        "colab": {
          "base_uri": "https://localhost:8080/"
        },
        "outputId": "4ff2d9f2-a2f6-4baf-f4a2-7431f8853f71"
      },
      "execution_count": null,
      "outputs": [
        {
          "output_type": "stream",
          "name": "stdout",
          "text": [
            "20\n",
            "long long long long long int\n"
          ]
        }
      ]
    },
    {
      "cell_type": "code",
      "source": [
        "# 15552\n",
        "\n",
        "import sys\n",
        "\n",
        "for i in range(int(sys.stdin.readline())):\n",
        "  print(sum(map(int, sys.stdin.readline().split())))\n",
        "\n",
        "# 코랩에서는 sys.stdin.readline()지원X\n",
        "\n",
        "# n,*a=map(int,open(0).read().split())\n",
        "# print(' '.join(str(a[i]+a[i+1])for i in range(0,2*n,2)))\n",
        "\n",
        "# (lambda:print('\\n'.join(map(str,map(int.__add__,*[map(int,sys.stdin.buffer.read().split()[1:])]*2)))))()\n",
        "# 람다는 함수 실행용..."
      ],
      "metadata": {
        "colab": {
          "base_uri": "https://localhost:8080/",
          "height": 219
        },
        "id": "_sSJOTihObu4",
        "outputId": "fbfe480e-9254-40ba-ecdf-e3baa78119f2"
      },
      "execution_count": null,
      "outputs": [
        {
          "output_type": "error",
          "ename": "ValueError",
          "evalue": "invalid literal for int() with base 10: ''",
          "traceback": [
            "\u001b[0;31m---------------------------------------------------------------------------\u001b[0m",
            "\u001b[0;31mValueError\u001b[0m                                Traceback (most recent call last)",
            "\u001b[0;32m<ipython-input-18-185c936fd02a>\u001b[0m in \u001b[0;36m<cell line: 5>\u001b[0;34m()\u001b[0m\n\u001b[1;32m      3\u001b[0m \u001b[0;32mimport\u001b[0m \u001b[0msys\u001b[0m\u001b[0;34m\u001b[0m\u001b[0;34m\u001b[0m\u001b[0m\n\u001b[1;32m      4\u001b[0m \u001b[0;34m\u001b[0m\u001b[0m\n\u001b[0;32m----> 5\u001b[0;31m \u001b[0;32mfor\u001b[0m \u001b[0mi\u001b[0m \u001b[0;32min\u001b[0m \u001b[0mrange\u001b[0m\u001b[0;34m(\u001b[0m\u001b[0mint\u001b[0m\u001b[0;34m(\u001b[0m\u001b[0msys\u001b[0m\u001b[0;34m.\u001b[0m\u001b[0mstdin\u001b[0m\u001b[0;34m.\u001b[0m\u001b[0mreadline\u001b[0m\u001b[0;34m(\u001b[0m\u001b[0;34m)\u001b[0m\u001b[0;34m)\u001b[0m\u001b[0;34m)\u001b[0m\u001b[0;34m:\u001b[0m\u001b[0;34m\u001b[0m\u001b[0;34m\u001b[0m\u001b[0m\n\u001b[0m\u001b[1;32m      6\u001b[0m   \u001b[0mprint\u001b[0m\u001b[0;34m(\u001b[0m\u001b[0msum\u001b[0m\u001b[0;34m(\u001b[0m\u001b[0mmap\u001b[0m\u001b[0;34m(\u001b[0m\u001b[0mint\u001b[0m\u001b[0;34m,\u001b[0m \u001b[0msys\u001b[0m\u001b[0;34m.\u001b[0m\u001b[0mstdin\u001b[0m\u001b[0;34m.\u001b[0m\u001b[0mreadline\u001b[0m\u001b[0;34m(\u001b[0m\u001b[0;34m)\u001b[0m\u001b[0;34m.\u001b[0m\u001b[0msplit\u001b[0m\u001b[0;34m(\u001b[0m\u001b[0;34m)\u001b[0m\u001b[0;34m)\u001b[0m\u001b[0;34m)\u001b[0m\u001b[0;34m)\u001b[0m\u001b[0;34m\u001b[0m\u001b[0;34m\u001b[0m\u001b[0m\n\u001b[1;32m      7\u001b[0m \u001b[0;34m\u001b[0m\u001b[0m\n",
            "\u001b[0;31mValueError\u001b[0m: invalid literal for int() with base 10: ''"
          ]
        }
      ]
    },
    {
      "cell_type": "code",
      "source": [
        "# 15552\n",
        "# 테스트용, sys.stdin.readline() -> input()\n",
        "\n",
        "import sys\n",
        "\n",
        "for i in range(int(input())):\n",
        "  print(sum(map(int, input().split())))"
      ],
      "metadata": {
        "colab": {
          "base_uri": "https://localhost:8080/"
        },
        "id": "1hlZKMJeoDA5",
        "outputId": "b427bc42-9488-448b-8e41-7b91ba541bc3"
      },
      "execution_count": null,
      "outputs": [
        {
          "output_type": "stream",
          "name": "stdout",
          "text": [
            "5\n",
            "1 1\n",
            "2\n",
            "1 5\n",
            "6\n",
            "3 10\n",
            "13\n",
            "100 3000\n",
            "3100\n",
            "5343 1111\n",
            "6454\n"
          ]
        }
      ]
    },
    {
      "cell_type": "code",
      "source": [
        "# 11021\n",
        "\n",
        "n = int(input())\n",
        "for i in range(1,n+1):\n",
        "  a, b = map(int, input().split())\n",
        "  print(f\"Case #{i}: {a+b}\")"
      ],
      "metadata": {
        "id": "zhv713zJuQFU",
        "colab": {
          "base_uri": "https://localhost:8080/"
        },
        "outputId": "1e4d1ca1-150a-44e3-a093-70e0b3c3a645"
      },
      "execution_count": 4,
      "outputs": [
        {
          "output_type": "stream",
          "name": "stdout",
          "text": [
            "5\n",
            "1 1\n",
            "Case #1: 2\n",
            "2 3\n",
            "Case #2: 5\n",
            "4 5\n",
            "Case #3: 9\n",
            "9 8\n",
            "Case #4: 17\n",
            "6 2\n",
            "Case #5: 8\n"
          ]
        }
      ]
    },
    {
      "cell_type": "code",
      "source": [
        "# 11022\n",
        "\n",
        "n = int(input())\n",
        "for i in range(1, n+1):\n",
        "  a, b = map(int, input().split())\n",
        "  print(f\"Case #{i}: {a} + {b} = {a+b}\")"
      ],
      "metadata": {
        "colab": {
          "base_uri": "https://localhost:8080/"
        },
        "id": "z9BOvEB5JU2x",
        "outputId": "0a898eb6-d3a7-43dd-e9c6-f4684c463130"
      },
      "execution_count": 6,
      "outputs": [
        {
          "output_type": "stream",
          "name": "stdout",
          "text": [
            "5\n",
            "1 1\n",
            "Case #1: 1 + 1 = 2\n",
            "2 3\n",
            "Case #2: 2 + 3 = 5\n",
            "3 4\n",
            "Case #3: 3 + 4 = 7\n",
            "4 8\n",
            "Case #4: 4 + 8 = 12\n",
            "9 7\n",
            "Case #5: 9 + 7 = 16\n"
          ]
        }
      ]
    },
    {
      "cell_type": "code",
      "source": [
        "# 2438\n",
        "\n",
        "n = int(input())\n",
        "for i in range (1, n+1):\n",
        "  for j in range(i):\n",
        "    print(\"*\", end=\"\")\n",
        "  print(\"\")\n",
        "\n",
        "# for i in range(int(input())):\n",
        "#   print('*'*(i+1))"
      ],
      "metadata": {
        "colab": {
          "base_uri": "https://localhost:8080/"
        },
        "id": "f7LTTmPiKH2p",
        "outputId": "61d1b24f-a5a4-4f17-e4f0-5f25322f55bd"
      },
      "execution_count": 8,
      "outputs": [
        {
          "output_type": "stream",
          "name": "stdout",
          "text": [
            "5\n",
            "*\n",
            "**\n",
            "***\n",
            "****\n",
            "*****\n"
          ]
        }
      ]
    },
    {
      "cell_type": "code",
      "source": [
        "# 2439\n",
        "\n",
        "n = int(input())\n",
        "for i in range(1, n+1):\n",
        "  print(\" \"*(n-i) + \"*\"*i)"
      ],
      "metadata": {
        "colab": {
          "base_uri": "https://localhost:8080/"
        },
        "id": "-WKkamU2RUWm",
        "outputId": "ccbd6118-8c87-417f-b015-ef25fd57a109"
      },
      "execution_count": 11,
      "outputs": [
        {
          "output_type": "stream",
          "name": "stdout",
          "text": [
            "5\n",
            "    *\n",
            "   **\n",
            "  ***\n",
            " ****\n",
            "*****\n"
          ]
        }
      ]
    },
    {
      "cell_type": "code",
      "source": [
        "# 10952\n",
        "while(True):\n",
        "  a, b = map(int, input().split())\n",
        "  if (a == 0) and (b == 0):\n",
        "    break\n",
        "  print(a+b)"
      ],
      "metadata": {
        "colab": {
          "base_uri": "https://localhost:8080/"
        },
        "id": "_sGaYxj1SnMa",
        "outputId": "17eeccda-2cd0-4624-fe48-361201aa0f85"
      },
      "execution_count": 14,
      "outputs": [
        {
          "name": "stdout",
          "output_type": "stream",
          "text": [
            "1 1\n",
            "2\n",
            "2 3\n",
            "5\n",
            "3 4\n",
            "7\n",
            "9 8\n",
            "17\n",
            "5 2\n",
            "7\n",
            "0 0\n"
          ]
        }
      ]
    },
    {
      "cell_type": "code",
      "source": [
        "# 10951\n",
        "# 이 문제의 목적은 파일의 끝(EOF)을 올바르게 판단하는 법을 연습하는 것\n",
        "# https://www.acmicpc.net/board/view/39199\n",
        "\n",
        "while True:\n",
        "  try:\n",
        "    a, b = map(int, input().split())\n",
        "    print(a+b)\n",
        "  except EOFError:\n",
        "    break\n",
        "\n",
        "# 코랩에서 eoferror : ctrl + d"
      ],
      "metadata": {
        "colab": {
          "base_uri": "https://localhost:8080/"
        },
        "id": "y6iCkHG9VIUr",
        "outputId": "ab913b82-e876-4e25-b59c-10427acfdac5"
      },
      "execution_count": 19,
      "outputs": [
        {
          "name": "stdout",
          "output_type": "stream",
          "text": [
            "1 1\n",
            "2\n",
            "2 8\n",
            "10\n",
            "\u0004\n"
          ]
        }
      ]
    }
  ]
}