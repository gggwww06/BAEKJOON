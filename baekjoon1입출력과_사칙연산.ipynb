{
  "nbformat": 4,
  "nbformat_minor": 0,
  "metadata": {
    "colab": {
      "provenance": [],
      "authorship_tag": "ABX9TyOZIOvrL3quQnnmwaCbqwhb",
      "include_colab_link": true
    },
    "kernelspec": {
      "name": "python3",
      "display_name": "Python 3"
    },
    "language_info": {
      "name": "python"
    }
  },
  "cells": [
    {
      "cell_type": "markdown",
      "metadata": {
        "id": "view-in-github",
        "colab_type": "text"
      },
      "source": [
        "<a href=\"https://colab.research.google.com/github/gggwww06/baekjoon_step/blob/main/baekjoon1%EC%9E%85%EC%B6%9C%EB%A0%A5%EA%B3%BC_%EC%82%AC%EC%B9%99%EC%97%B0%EC%82%B0.ipynb\" target=\"_parent\"><img src=\"https://colab.research.google.com/assets/colab-badge.svg\" alt=\"Open In Colab\"/></a>"
      ]
    },
    {
      "cell_type": "code",
      "execution_count": null,
      "metadata": {
        "colab": {
          "base_uri": "https://localhost:8080/"
        },
        "id": "xYhYvLLPpYcW",
        "outputId": "1d71a5ad-05d9-4909-f4a7-a576aa005c87"
      },
      "outputs": [
        {
          "output_type": "stream",
          "name": "stdout",
          "text": [
            "Hello World!\n"
          ]
        }
      ],
      "source": [
        "# 2557\n",
        "\n",
        "print(\"Hello World!\")"
      ]
    },
    {
      "cell_type": "code",
      "source": [
        "# 1000\n",
        "\n",
        "a, b = map(int, input().split())\n",
        "print(a + b)\n",
        "\n",
        "# map(적용할 함수, 적용할 리스트/튜플 등 반복 가능한 자료형)"
      ],
      "metadata": {
        "colab": {
          "base_uri": "https://localhost:8080/"
        },
        "id": "8lsJ9FXZNa-y",
        "outputId": "9252b4f0-5d46-4a0f-a0b4-e13b19ed5ee1"
      },
      "execution_count": null,
      "outputs": [
        {
          "output_type": "stream",
          "name": "stdout",
          "text": [
            "1 2\n",
            "3\n"
          ]
        }
      ]
    },
    {
      "cell_type": "code",
      "source": [
        "# 1001\n",
        "\n",
        "a, b = map(int, input().split())\n",
        "print(a - b)"
      ],
      "metadata": {
        "colab": {
          "base_uri": "https://localhost:8080/"
        },
        "id": "jnJ_24EZP1d7",
        "outputId": "f50fbf19-4d86-496a-9885-c60b2662ba17"
      },
      "execution_count": null,
      "outputs": [
        {
          "output_type": "stream",
          "name": "stdout",
          "text": [
            "3 2\n",
            "1\n"
          ]
        }
      ]
    },
    {
      "cell_type": "code",
      "source": [
        "# 10998\n",
        "\n",
        "a, b = map(int, input().split())\n",
        "print(a * b)"
      ],
      "metadata": {
        "colab": {
          "base_uri": "https://localhost:8080/"
        },
        "id": "jBatoMe0QQzh",
        "outputId": "8970fb38-802a-4bb2-bb0d-e7b38c0b9aa3"
      },
      "execution_count": null,
      "outputs": [
        {
          "output_type": "stream",
          "name": "stdout",
          "text": [
            "3 4\n",
            "12\n"
          ]
        }
      ]
    },
    {
      "cell_type": "code",
      "source": [
        "# 1008\n",
        "\n",
        "a, b = map(int, input().split())\n",
        "print(a / b)"
      ],
      "metadata": {
        "colab": {
          "base_uri": "https://localhost:8080/"
        },
        "id": "rTqu5NdaQjQx",
        "outputId": "65098e3b-a6df-401b-8625-bf1a6af4c6a0"
      },
      "execution_count": null,
      "outputs": [
        {
          "output_type": "stream",
          "name": "stdout",
          "text": [
            "1 3\n",
            "0.3333333333333333\n"
          ]
        }
      ]
    },
    {
      "cell_type": "code",
      "source": [
        "# 10869\n",
        "\n",
        "a, b = map(int, input().split())\n",
        "print(a + b)\n",
        "print(a - b)\n",
        "print(a * b)\n",
        "print(a // b)\n",
        "print(a % b)"
      ],
      "metadata": {
        "colab": {
          "base_uri": "https://localhost:8080/"
        },
        "id": "RiLBBjMbR4UP",
        "outputId": "be8058ee-f2de-41b3-d858-601738c0ad03"
      },
      "execution_count": null,
      "outputs": [
        {
          "output_type": "stream",
          "name": "stdout",
          "text": [
            "7 3\n",
            "10\n",
            "4\n",
            "21\n",
            "2\n",
            "1\n"
          ]
        }
      ]
    },
    {
      "cell_type": "code",
      "source": [
        "# 10926\n",
        "\n",
        "n = input()\n",
        "print(n + \"??!\")\n",
        "\n",
        "# print(input()+\"??!\") 가능"
      ],
      "metadata": {
        "colab": {
          "base_uri": "https://localhost:8080/"
        },
        "id": "QSc5c5S7So0b",
        "outputId": "58217438-8fba-4065-967f-d6aed9c9be8e"
      },
      "execution_count": null,
      "outputs": [
        {
          "output_type": "stream",
          "name": "stdout",
          "text": [
            "a\n",
            "a??!\n"
          ]
        }
      ]
    },
    {
      "cell_type": "code",
      "source": [
        "# 18108\n",
        "\n",
        "y = int(input())\n",
        "print(y - 543)"
      ],
      "metadata": {
        "colab": {
          "base_uri": "https://localhost:8080/"
        },
        "id": "tgTAjKw0Tcdo",
        "outputId": "bee11853-f6c3-48d2-fc9f-f2ab3a839033"
      },
      "execution_count": null,
      "outputs": [
        {
          "output_type": "stream",
          "name": "stdout",
          "text": [
            "2541\n",
            "1998\n"
          ]
        }
      ]
    },
    {
      "cell_type": "code",
      "source": [
        "# 10430\n",
        "\n",
        "a, b, c = map(int, input().split())\n",
        "print((a + b) % c)\n",
        "print(((a % c) + (b % c)) % c)\n",
        "print((a * b) % c)\n",
        "print(((a % c) * (b % c)) % c)"
      ],
      "metadata": {
        "colab": {
          "base_uri": "https://localhost:8080/"
        },
        "id": "Teu5BtM-Uj9D",
        "outputId": "906f9d32-4ec3-44e9-9288-dc610ad22aef"
      },
      "execution_count": null,
      "outputs": [
        {
          "output_type": "stream",
          "name": "stdout",
          "text": [
            "5 8 4\n",
            "1\n",
            "1\n",
            "0\n",
            "0\n"
          ]
        }
      ]
    },
    {
      "cell_type": "code",
      "source": [
        "# 2588\n",
        "\n",
        "a = int(input())\n",
        "b, c, d = map(int, str(input()))\n",
        "print(a * d)\n",
        "print(a * c)\n",
        "print(a * b)\n",
        "print(a*(b*100 + c*10 + d))\n",
        "\n",
        "# A,B = int(input()),input()\n",
        "# print(*[A*int(p) for p in B][::-1], a*int(B))\n",
        "# * : 리스트를 언패킹하여 각 원소를 개별 인자로 전달"
      ],
      "metadata": {
        "colab": {
          "base_uri": "https://localhost:8080/"
        },
        "id": "6_NPYAy1YEH3",
        "outputId": "ec31ced0-56d9-40c4-bc87-b2e4eab21415"
      },
      "execution_count": null,
      "outputs": [
        {
          "output_type": "stream",
          "name": "stdout",
          "text": [
            "123\n",
            "456\n",
            "738\n",
            "615\n",
            "492\n",
            "56088\n",
            "123\n",
            "456\n",
            "738 615 492 56088\n"
          ]
        }
      ]
    },
    {
      "cell_type": "code",
      "source": [
        "# 11382\n",
        "\n",
        "a, b, c = map(int, input().split())\n",
        "print(a + b + c)\n",
        "\n",
        "# print(sum(map(int, input().split())))"
      ],
      "metadata": {
        "colab": {
          "base_uri": "https://localhost:8080/"
        },
        "id": "YIkrMKwQqEmk",
        "outputId": "e3a59de2-6cef-45cf-aa56-8c93a636d1e1"
      },
      "execution_count": null,
      "outputs": [
        {
          "output_type": "stream",
          "name": "stdout",
          "text": [
            "77 77 7777\n",
            "7931\n"
          ]
        }
      ]
    },
    {
      "cell_type": "code",
      "source": [
        "# 10171\n",
        "\n",
        "print(\"\\\\    /\\\\\")\n",
        "print(\" )  ( ')\")\n",
        "print(\"(  /  )\")\n",
        "print(\" \\\\(__)|\")"
      ],
      "metadata": {
        "colab": {
          "base_uri": "https://localhost:8080/"
        },
        "id": "KCbcDOX3qohD",
        "outputId": "a6ef735c-4d2f-47ec-e44c-3d2a3baa77bd"
      },
      "execution_count": null,
      "outputs": [
        {
          "output_type": "stream",
          "name": "stdout",
          "text": [
            "\\    /\\\n",
            " )  ( ')\n",
            "(  /  )\n",
            " \\(__)|\n"
          ]
        }
      ]
    },
    {
      "cell_type": "code",
      "source": [
        "# 10172\n",
        "\n",
        "print(r'''|\\_/|\n",
        "|q p|   /}\n",
        "( 0 )\"\"\"\\\n",
        "|\"^\"`    |\n",
        "||_/=\\\\__|''')\n",
        "\n",
        "# 문자열 앞에 r을 붙이면 특수문자 앞에 \\붙일 필요 x\n",
        "# \"\"\" ~ \"\"\" / ''' ~ ''' 을 통해 여러 줄로 된 문자열 사용 가능\n",
        "# 문자열 안에 큰따옴표가 있어 작은따옴표로 문자열 생성"
      ],
      "metadata": {
        "colab": {
          "base_uri": "https://localhost:8080/"
        },
        "id": "u1sXxnVpsCIk",
        "outputId": "0fb92a50-4f07-49ed-cf36-28d92437c5f2"
      },
      "execution_count": null,
      "outputs": [
        {
          "output_type": "stream",
          "name": "stdout",
          "text": [
            "|\\_/|\n",
            "|q p|   /}\n",
            "( 0 )\"\"\"\\\n",
            "|\"^\"`    |\n",
            "||_/=\\\\__|\n"
          ]
        }
      ]
    }
  ]
}