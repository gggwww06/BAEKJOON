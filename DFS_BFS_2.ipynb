{
  "nbformat": 4,
  "nbformat_minor": 0,
  "metadata": {
    "colab": {
      "provenance": [],
      "authorship_tag": "ABX9TyPvcn1g5ClETL9gtJXN9rOO",
      "include_colab_link": true
    },
    "kernelspec": {
      "name": "python3",
      "display_name": "Python 3"
    },
    "language_info": {
      "name": "python"
    }
  },
  "cells": [
    {
      "cell_type": "markdown",
      "metadata": {
        "id": "view-in-github",
        "colab_type": "text"
      },
      "source": [
        "<a href=\"https://colab.research.google.com/github/gggwww06/baekjoon/blob/main/DFS_BFS_2.ipynb\" target=\"_parent\"><img src=\"https://colab.research.google.com/assets/colab-badge.svg\" alt=\"Open In Colab\"/></a>"
      ]
    },
    {
      "cell_type": "markdown",
      "source": [
        "# **1926 - DFS**"
      ],
      "metadata": {
        "id": "mvrnl4oXKbem"
      }
    },
    {
      "cell_type": "code",
      "execution_count": null,
      "metadata": {
        "colab": {
          "base_uri": "https://localhost:8080/"
        },
        "id": "AvWOHaqR4dbB",
        "outputId": "f84b151c-955c-4417-8246-3cdf5bfe9eec"
      },
      "outputs": [
        {
          "output_type": "stream",
          "name": "stdout",
          "text": [
            "1 1\n",
            "1\n",
            "1\n",
            "1\n"
          ]
        }
      ],
      "source": [
        "# 1926\n",
        "\n",
        "import sys\n",
        "sys.setrecursionlimit(10**6)\n",
        "\n",
        "def dfs(x,y):\n",
        "  if x<=-1 or x>=n or y<=-1 or y>=m:\n",
        "    return False\n",
        "  if graph[x][y] == 1:\n",
        "    graph[x][y] = 0\n",
        "    size[0] += 1\n",
        "    dfs(x+1,y)\n",
        "    dfs(x-1,y)\n",
        "    dfs(x,y+1)\n",
        "    dfs(x,y-1)\n",
        "    return size[0]\n",
        "  return False\n",
        "\n",
        "n, m = map(int, input().split())\n",
        "graph = [list(map(int, input().split())) for _ in range(n)]\n",
        "res = []\n",
        "size = [0]\n",
        "for i in range(n):\n",
        "  for j in range(m):\n",
        "    size[0] = 0\n",
        "    k = dfs(i,j)\n",
        "    if k > 0:\n",
        "      res.append(k)\n",
        "\n",
        "if len(res) == 0:\n",
        "  print(\"0\\n0\")\n",
        "else:\n",
        "  print(f\"{len(res)}\\n{max(res)}\")"
      ]
    },
    {
      "cell_type": "code",
      "source": [
        "# 1926 bfs 참고\n",
        "import sys\n",
        "from collections import deque\n",
        "\n",
        "def solution():\n",
        "    input = sys.stdin.readline\n",
        "\n",
        "    R, C = map(int, input().split())\n",
        "    picture = [list(map(int, input().split())) for _ in range(R)]\n",
        "\n",
        "    answer = []\n",
        "    for r in range(R):\n",
        "        for c in range(C):\n",
        "            if picture[r][c] == 1:\n",
        "                answer.append(bfs(R, C, picture, r, c))\n",
        "\n",
        "    print(len(answer))\n",
        "    print(max(answer) if answer else 0)\n",
        "\n",
        "def bfs(R, C, picture, r, c):\n",
        "\n",
        "    q = deque()\n",
        "\n",
        "    q.append((r, c))\n",
        "    picture[r][c] = 0\n",
        "\n",
        "    count = 0\n",
        "    while q:\n",
        "\n",
        "        r, c = q.popleft()\n",
        "        count += 1\n",
        "\n",
        "        for (dr, dc) in [(0, 1), (0, -1), (1, 0), (-1, 0)]:\n",
        "\n",
        "            nr = r + dr\n",
        "            nc = c + dc\n",
        "\n",
        "            if nr < 0 or nr >= R or nc < 0 or nc >= C or picture[nr][nc] == 0:\n",
        "                continue\n",
        "\n",
        "            q.append((nr, nc))\n",
        "            picture[nr][nc] = 0\n",
        "\n",
        "    return count\n",
        "\n",
        "solution()"
      ],
      "metadata": {
        "id": "bLW6ZdvsVc_t"
      },
      "execution_count": null,
      "outputs": []
    },
    {
      "cell_type": "markdown",
      "source": [
        "# **11060 - BFS**"
      ],
      "metadata": {
        "id": "kJEsnnytKL2a"
      }
    },
    {
      "cell_type": "code",
      "source": [
        "# 11060\n",
        "\n",
        "from collections import deque\n",
        "\n",
        "def bfs(x):\n",
        "  q = deque()\n",
        "  q.append(x)\n",
        "\n",
        "  while q:\n",
        "    x = q.popleft()\n",
        "    for i in range(a[x]+1):\n",
        "      nx = x + i\n",
        "      if nx >= n:\n",
        "        continue\n",
        "      if g[nx] == False:\n",
        "        g[nx] = g[x] + 1\n",
        "        q.append(nx)\n",
        "  return g[n-1]\n",
        "\n",
        "n = int(input())\n",
        "a = list(map(int, input().split()))\n",
        "g = [False]*(len(a))\n",
        "\n",
        "answer = bfs(0)\n",
        "print(answer-1 if answer else -1)"
      ],
      "metadata": {
        "colab": {
          "base_uri": "https://localhost:8080/"
        },
        "id": "3hXOzUh7939G",
        "outputId": "70d32f90-3bf2-4bca-d8ee-5ab67c9abf5a"
      },
      "execution_count": 16,
      "outputs": [
        {
          "output_type": "stream",
          "name": "stdout",
          "text": [
            "10\n",
            "1 2 0 1 3 2 1 5 4 2\n",
            "5\n"
          ]
        }
      ]
    },
    {
      "cell_type": "code",
      "source": [
        "# 11060 참고\n",
        "\n",
        "N = int(input())\n",
        "nums = list(map(int, input().split()))\n",
        "visited = [-1] * N\n",
        "visited[0] = 0\n",
        "q = [0]\n",
        "\n",
        "for n in q:\n",
        "    for i in range(n + 1, n + nums[n] + 1):\n",
        "        if 0 <= i < N and visited[i] == -1:\n",
        "            q.append(i)\n",
        "            visited[i] = visited[n] + 1\n",
        "print(visited[-1])\n"
      ],
      "metadata": {
        "colab": {
          "base_uri": "https://localhost:8080/"
        },
        "id": "iVKaWo_VIGXW",
        "outputId": "b15ee4e8-d567-4ccc-c90d-304522052f33"
      },
      "execution_count": 17,
      "outputs": [
        {
          "output_type": "stream",
          "name": "stdout",
          "text": [
            "1\n",
            "1\n",
            "0\n"
          ]
        }
      ]
    }
  ]
}