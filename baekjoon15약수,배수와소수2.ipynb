{
  "nbformat": 4,
  "nbformat_minor": 0,
  "metadata": {
    "colab": {
      "provenance": [],
      "authorship_tag": "ABX9TyNCxjrHA3Is1fmDoVr6uynk",
      "include_colab_link": true
    },
    "kernelspec": {
      "name": "python3",
      "display_name": "Python 3"
    },
    "language_info": {
      "name": "python"
    }
  },
  "cells": [
    {
      "cell_type": "markdown",
      "metadata": {
        "id": "view-in-github",
        "colab_type": "text"
      },
      "source": [
        "<a href=\"https://colab.research.google.com/github/gggwww06/baekjoon_step/blob/main/baekjoon15%EC%95%BD%EC%88%98%2C%EB%B0%B0%EC%88%98%EC%99%80%EC%86%8C%EC%88%982.ipynb\" target=\"_parent\"><img src=\"https://colab.research.google.com/assets/colab-badge.svg\" alt=\"Open In Colab\"/></a>"
      ]
    },
    {
      "cell_type": "code",
      "execution_count": 4,
      "metadata": {
        "colab": {
          "base_uri": "https://localhost:8080/"
        },
        "id": "GgDOnhc69K_L",
        "outputId": "82549515-bac0-4e23-9968-d8352c33f0d7"
      },
      "outputs": [
        {
          "output_type": "stream",
          "name": "stdout",
          "text": [
            "1 8 1 4\n",
            "3 8\n"
          ]
        }
      ],
      "source": [
        "# 1735\n",
        "\n",
        "a, b, c, d = map(int, input().split())\n",
        "# a,b,c,d = map(int, open(0).read().split())\n",
        "x = a*d + c*b\n",
        "y = b*d\n",
        "for i in range(b if b>d else d, 1, -1):\n",
        "  if x%i == 0 and y%i == 0:\n",
        "    x //= i\n",
        "    y //= i\n",
        "print(x, y)\n",
        "\n",
        "# 유클리드 호제법\n",
        "# def g(x,y):\n",
        "#     while y!=0:\n",
        "#         t=x%y\n",
        "#         x=y\n",
        "#         y=t\n",
        "#     return(x)\n",
        "# print(y//g(x,y),x//g(x,y))"
      ]
    },
    {
      "cell_type": "code",
      "source": [
        "# 에라토스테네스의 체\n",
        "def prime_list(n):\n",
        "    # 초기화: n개 요소에 True 설정(소수로 간주)\n",
        "    sieve = [True] * n\n",
        "\n",
        "    # n의 최대 약수가 sqrt(n) 이하이므로 i=sqrt(n)까지 검사\n",
        "    m = int(n ** 0.5)\n",
        "    for i in range(2, m + 1):\n",
        "        if sieve[i] == True:           # i가 소수인 경우\n",
        "            for j in range(i+i, n, i): # i이후 i의 배수들을 False 판정\n",
        "                sieve[j] = False\n",
        "\n",
        "    # 소수 목록 산출\n",
        "    return [i for i in range(2, n) if sieve[i] == True]"
      ],
      "metadata": {
        "id": "5gqYUFaFKjup"
      },
      "execution_count": null,
      "outputs": []
    },
    {
      "cell_type": "code",
      "source": [
        "# 17103\n",
        "\n",
        "a, *b = map(int, input().split())\n",
        "# a, *b = map(int, open(0).read().split())\n",
        "n = max(b)\n",
        "s = [True]*n\n",
        "for i in range(2, int(n**0.5)+1):\n",
        "  if s[i]:\n",
        "    for j in range(i+i, n, i):\n",
        "      s[j] = False\n",
        "c = [i for i in range(2,n) if s[i]]\n",
        "for i in range(a):\n",
        "  cnt = 0\n",
        "  for j in c:\n",
        "    k = b[i] - j\n",
        "    if k > 1 and s[b[i] - j]:\n",
        "      cnt += 1\n",
        "  print(cnt//2 if cnt%2 == 0 else cnt//2 + 1)"
      ],
      "metadata": {
        "colab": {
          "base_uri": "https://localhost:8080/"
        },
        "id": "lnIbqac0B6fV",
        "outputId": "e3cf7093-b140-4443-a01d-a94c56fedbfb"
      },
      "execution_count": 27,
      "outputs": [
        {
          "output_type": "stream",
          "name": "stdout",
          "text": [
            "4 1 2 3 4\n",
            "0\n",
            "0\n",
            "0\n",
            "1\n"
          ]
        }
      ]
    }
  ]
}