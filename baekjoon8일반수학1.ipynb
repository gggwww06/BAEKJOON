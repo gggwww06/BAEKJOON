{
  "nbformat": 4,
  "nbformat_minor": 0,
  "metadata": {
    "colab": {
      "provenance": [],
      "authorship_tag": "ABX9TyOXrvs0E6lRlfeDVxEYwFsJ",
      "include_colab_link": true
    },
    "kernelspec": {
      "name": "python3",
      "display_name": "Python 3"
    },
    "language_info": {
      "name": "python"
    }
  },
  "cells": [
    {
      "cell_type": "markdown",
      "metadata": {
        "id": "view-in-github",
        "colab_type": "text"
      },
      "source": [
        "<a href=\"https://colab.research.google.com/github/gggwww06/baekjoon_step/blob/main/baekjoon8%EC%9D%BC%EB%B0%98%EC%88%98%ED%95%991.ipynb\" target=\"_parent\"><img src=\"https://colab.research.google.com/assets/colab-badge.svg\" alt=\"Open In Colab\"/></a>"
      ]
    },
    {
      "cell_type": "code",
      "execution_count": 12,
      "metadata": {
        "colab": {
          "base_uri": "https://localhost:8080/"
        },
        "id": "Y9vWm26NX2x7",
        "outputId": "f4e53a1e-ea9d-4528-f6b3-7cb8c2f87981"
      },
      "outputs": [
        {
          "output_type": "stream",
          "name": "stdout",
          "text": [
            "9\n",
            "3/2\n"
          ]
        }
      ],
      "source": [
        "# 1193\n",
        "\n",
        "n = int(input())\n",
        "s = i = 0\n",
        "while s < n:\n",
        "  i += 1\n",
        "  s += i\n",
        "if i%2 == 1:\n",
        "  print(f\"{s - n + 1}/{i - s + n}\")\n",
        "else:\n",
        "  print(f\"{i - s + n}/{s - n + 1}\")\n",
        "\n",
        "# a=1\n",
        "# while x>a:\n",
        "#     x-=a\n",
        "#     a+=1\n",
        "# print(*(a+1-x,x)[::a%2*2-1],sep='/')"
      ]
    }
  ]
}