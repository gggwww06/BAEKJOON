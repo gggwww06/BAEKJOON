{
  "nbformat": 4,
  "nbformat_minor": 0,
  "metadata": {
    "colab": {
      "provenance": [],
      "authorship_tag": "ABX9TyPm7DVADIz+Uh8PA3TkLweJ",
      "include_colab_link": true
    },
    "kernelspec": {
      "name": "python3",
      "display_name": "Python 3"
    },
    "language_info": {
      "name": "python"
    }
  },
  "cells": [
    {
      "cell_type": "markdown",
      "metadata": {
        "id": "view-in-github",
        "colab_type": "text"
      },
      "source": [
        "<a href=\"https://colab.research.google.com/github/gggwww06/baekjoon_step/blob/main/baekjoon5%EB%AC%B8%EC%9E%90%EC%97%B4.ipynb\" target=\"_parent\"><img src=\"https://colab.research.google.com/assets/colab-badge.svg\" alt=\"Open In Colab\"/></a>"
      ]
    },
    {
      "cell_type": "code",
      "execution_count": 3,
      "metadata": {
        "colab": {
          "base_uri": "https://localhost:8080/"
        },
        "id": "jToNlDzyp0F_",
        "outputId": "65994f30-a1f0-4381-c1e3-c7b408642292"
      },
      "outputs": [
        {
          "output_type": "stream",
          "name": "stdout",
          "text": [
            "Sprout\n",
            "3\n",
            "r\n"
          ]
        }
      ],
      "source": [
        "# 27866\n",
        "\n",
        "print(input()[int(input())-1])"
      ]
    },
    {
      "cell_type": "code",
      "source": [
        "# 2743\n",
        "\n",
        "print(len(input()))"
      ],
      "metadata": {
        "colab": {
          "base_uri": "https://localhost:8080/"
        },
        "id": "f6EWTD8Lra7e",
        "outputId": "35cd0896-e389-45f2-a330-14c091a3c413"
      },
      "execution_count": 4,
      "outputs": [
        {
          "output_type": "stream",
          "name": "stdout",
          "text": [
            "pulljima\n",
            "8\n"
          ]
        }
      ]
    },
    {
      "cell_type": "code",
      "source": [
        "# 9086\n",
        "\n",
        "n = int(input())\n",
        "for _ in range(n):\n",
        "  s = input()\n",
        "  print(s[0], s[len(s)-1], sep=\"\")\n",
        "\n",
        "# print(a[0]+a[-1])"
      ],
      "metadata": {
        "colab": {
          "base_uri": "https://localhost:8080/"
        },
        "id": "qs0ahVk7rxD2",
        "outputId": "b28701f2-6a8e-48b2-b47c-60906ccca708"
      },
      "execution_count": 5,
      "outputs": [
        {
          "output_type": "stream",
          "name": "stdout",
          "text": [
            "3\n",
            "ACDKJFOWIEGHE\n",
            "AE\n",
            "O\n",
            "OO\n",
            "AB\n",
            "AB\n"
          ]
        }
      ]
    },
    {
      "cell_type": "code",
      "source": [
        "# 11654\n",
        "\n",
        "print(ord(input()))"
      ],
      "metadata": {
        "colab": {
          "base_uri": "https://localhost:8080/"
        },
        "id": "01pTBpPLwZDG",
        "outputId": "90917b40-4cfc-4b59-c5c7-253335b70619"
      },
      "execution_count": 8,
      "outputs": [
        {
          "output_type": "stream",
          "name": "stdout",
          "text": [
            "A\n",
            "65\n"
          ]
        }
      ]
    },
    {
      "cell_type": "code",
      "source": [
        "# 11720\n",
        "\n",
        "n = input()\n",
        "s = 0\n",
        "for i in input():\n",
        "  s += int(i)\n",
        "print(s)\n",
        "\n",
        "# print(sum([int(f) for f in input()]))"
      ],
      "metadata": {
        "colab": {
          "base_uri": "https://localhost:8080/"
        },
        "id": "ddW_5O7Axn3u",
        "outputId": "85fa0aa3-89f3-427e-e8a8-61e2a92ccd3a"
      },
      "execution_count": 11,
      "outputs": [
        {
          "output_type": "stream",
          "name": "stdout",
          "text": [
            "5\n",
            "54321\n",
            "15\n"
          ]
        }
      ]
    },
    {
      "cell_type": "code",
      "source": [
        "# 10809\n",
        "\n",
        "s = input()\n",
        "a = []\n",
        "for i in range(ord('a'), ord('z')+1):\n",
        "  if chr(i) in s:\n",
        "    a.append(s.index(chr(i)))\n",
        "  else:\n",
        "    a.append(-1)\n",
        "print(\" \".join(map(str,a)))\n",
        "\n",
        "# z + 1해야 z까지 한다...\n",
        "\n",
        "# for i in \"abcdefghijklmnopqrstuvwxyz\"...\n",
        "\n",
        "# for i in range(97,123):\n",
        "#     print(s.find(chr(i)), end=' ')\n",
        "\n",
        "# print(*map(input().find,map(chr,range(97,123))))"
      ],
      "metadata": {
        "colab": {
          "base_uri": "https://localhost:8080/"
        },
        "id": "mPZd_sB_0EZD",
        "outputId": "614c3318-6056-4dae-b9a5-66511a52f19c"
      },
      "execution_count": 29,
      "outputs": [
        {
          "output_type": "stream",
          "name": "stdout",
          "text": [
            "abcdefghijklmnopqrstuvwxyz\n",
            "0 1 2 3 4 5 6 7 8 9 10 11 12 13 14 15 16 17 18 19 20 21 22 23 24\n"
          ]
        }
      ]
    },
    {
      "cell_type": "code",
      "source": [
        "# 2675\n",
        "\n",
        "n = int(input())\n",
        "for _ in range(n):\n",
        "  r, s = input().split()\n",
        "  print(\"\".join([i*int(r) for i in s]))"
      ],
      "metadata": {
        "colab": {
          "base_uri": "https://localhost:8080/"
        },
        "id": "RAzFpH7G9cDD",
        "outputId": "46b75fca-4b44-4239-97c2-81c3ca9563d8"
      },
      "execution_count": 35,
      "outputs": [
        {
          "output_type": "stream",
          "name": "stdout",
          "text": [
            "2\n",
            "3 ABC\n",
            "AAABBBCCC\n",
            "5 /HTP\n",
            "/////HHHHHTTTTTPPPPP\n"
          ]
        }
      ]
    },
    {
      "cell_type": "code",
      "source": [
        "# 1152\n",
        "\n",
        "print(len(list(input().split())))"
      ],
      "metadata": {
        "colab": {
          "base_uri": "https://localhost:8080/"
        },
        "id": "cTrkVeAM_aAC",
        "outputId": "a8ec0551-3b21-481c-d3e5-8ee07ab06e6e"
      },
      "execution_count": 42,
      "outputs": [
        {
          "output_type": "stream",
          "name": "stdout",
          "text": [
            "The Curious Case of Benjamin Button\n",
            "6\n"
          ]
        }
      ]
    },
    {
      "cell_type": "code",
      "source": [
        "# 2908\n",
        "\n",
        "a, b = input().split()\n",
        "print(a[::-1] if a[::-1]> b[::-1] else b[::-1])\n",
        "\n",
        "# print(max(input()[::-1].split()))"
      ],
      "metadata": {
        "colab": {
          "base_uri": "https://localhost:8080/"
        },
        "id": "_Wwj3H6qBOp1",
        "outputId": "68c09070-ea90-4c89-ca36-5a1c36ae358f"
      },
      "execution_count": 44,
      "outputs": [
        {
          "output_type": "stream",
          "name": "stdout",
          "text": [
            "734 893\n",
            "437\n"
          ]
        }
      ]
    },
    {
      "cell_type": "code",
      "source": [
        "# 5622\n",
        "# A : 65, Z : 90\n",
        "\n",
        "s = map(ord, list(input()))\n",
        "t = 0\n",
        "for i in s:\n",
        "  if i == 90:\n",
        "    t += 10\n",
        "  else:\n",
        "    if i >= 83:\n",
        "      i -= 1\n",
        "    t += (i-56)//3\n",
        "print(t)\n",
        "\n",
        "# if ~ else 대신 if i in 'SVYZ':t-=1"
      ],
      "metadata": {
        "colab": {
          "base_uri": "https://localhost:8080/"
        },
        "id": "R8vy0eduC12X",
        "outputId": "ef540716-55a3-4147-cb4a-648c8a4bd2ad"
      },
      "execution_count": 80,
      "outputs": [
        {
          "output_type": "stream",
          "name": "stdout",
          "text": [
            "WXYZ\n",
            "40\n"
          ]
        }
      ]
    },
    {
      "cell_type": "code",
      "source": [
        "# 11718\n",
        "\n",
        "while (True):\n",
        "  try:\n",
        "    print(input())\n",
        "  except:\n",
        "    break\n",
        "\n",
        "# print(open(0).read())"
      ],
      "metadata": {
        "colab": {
          "base_uri": "https://localhost:8080/"
        },
        "id": "JzsR40TAFCLC",
        "outputId": "41597a75-7f63-40b2-edd0-ca867cf000fa"
      },
      "execution_count": 82,
      "outputs": [
        {
          "name": "stdout",
          "output_type": "stream",
          "text": [
            "Hello\n",
            "Hello\n",
            "Baekjoon\n",
            "Baekjoon\n",
            "Online Judge\n",
            "Online Judge\n",
            "\u0004\n"
          ]
        }
      ]
    }
  ]
}
