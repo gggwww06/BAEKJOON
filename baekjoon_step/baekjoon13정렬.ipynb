{
  "nbformat": 4,
  "nbformat_minor": 0,
  "metadata": {
    "colab": {
      "provenance": [],
      "authorship_tag": "ABX9TyOYOu72vt5kHsPNjKLJBcA2",
      "include_colab_link": true
    },
    "kernelspec": {
      "name": "python3",
      "display_name": "Python 3"
    },
    "language_info": {
      "name": "python"
    }
  },
  "cells": [
    {
      "cell_type": "markdown",
      "metadata": {
        "id": "view-in-github",
        "colab_type": "text"
      },
      "source": [
        "<a href=\"https://colab.research.google.com/github/gggwww06/baekjoon_step/blob/main/baekjoon13%EC%A0%95%EB%A0%AC.ipynb\" target=\"_parent\"><img src=\"https://colab.research.google.com/assets/colab-badge.svg\" alt=\"Open In Colab\"/></a>"
      ]
    },
    {
      "cell_type": "code",
      "execution_count": 3,
      "metadata": {
        "colab": {
          "base_uri": "https://localhost:8080/"
        },
        "id": "Ecwqexw2DWlp",
        "outputId": "f69c15ee-4b18-43f6-cf54-0eec6b15a994"
      },
      "outputs": [
        {
          "output_type": "stream",
          "name": "stdout",
          "text": [
            "5\n",
            "2\n",
            "1\n",
            "3\n",
            "4\n",
            "5\n",
            "1\n",
            "2\n",
            "3\n",
            "4\n",
            "5\n"
          ]
        }
      ],
      "source": [
        "# 2751\n",
        "\n",
        "n = int(input())\n",
        "a = [int(input()) for _ in range(n)]\n",
        "print(\"\\n\".join(map(str, sorted(a))))\n",
        "\n",
        "# input 사용시 시간초과 에러 -> read()"
      ]
    },
    {
      "cell_type": "code",
      "source": [
        "# input 사용시 시간초과 에러 -> read()\n",
        "\n",
        "n, *a = map(int, open(0).read().split())\n",
        "print(\"\\n\".join(map(str, sorted(a))))\n",
        "\n",
        "# a=[None]*2000001\n",
        "# b=map(int,open(0))\n",
        "# next(b)\n",
        "# for i in b:a[i]=1\n",
        "# print(\"\\n\".join(str(i) for i in range(-1000000,1000001,1) if a[i]))"
      ],
      "metadata": {
        "id": "Z3ANI-vLpnrs"
      },
      "execution_count": null,
      "outputs": []
    },
    {
      "cell_type": "markdown",
      "source": [
        "------------------------ 구분선 ------------------------"
      ],
      "metadata": {
        "id": "czEe6Kpmv2pn"
      }
    },
    {
      "cell_type": "code",
      "source": [
        "# 11650\n",
        "\n",
        "# n, *a = map(int, input().split())\n",
        "n, *a = map(int, open(0).read().split())\n",
        "b = [[a[2*i], a[2*i+1]] for i in range(n)]\n",
        "b = sorted(b)\n",
        "print(\"\\n\".join(str(b[i][0])+\" \"+str(b[i][1]) for i in range(n)))\n",
        "\n",
        "# x + 0.000001*y로 정\n",
        "# import sys\n",
        "# def cond(dot):\n",
        "#     x, y = dot.split()\n",
        "#     return int(x) + int(y)/1000000\n",
        "# dots = sorted(sys.stdin.readlines()[1:], key=lambda x: cond(x))\n",
        "# print(''.join(dots))"
      ],
      "metadata": {
        "colab": {
          "base_uri": "https://localhost:8080/"
        },
        "id": "52GEVvrov0Nr",
        "outputId": "b7215b47-6d43-4921-c79b-1ce85c394c8f"
      },
      "execution_count": 29,
      "outputs": [
        {
          "output_type": "stream",
          "name": "stdout",
          "text": [
            "5 3 4 1 1 1 -1 2 2 3 3\n",
            "[1, -1] [1, 1] [2, 2] [3, 3] [3, 4]\n",
            "1 -1\n",
            "1 1\n",
            "2 2\n",
            "3 3\n",
            "3 4\n"
          ]
        }
      ]
    },
    {
      "cell_type": "code",
      "source": [
        "# 1181\n",
        "\n",
        "n, *a = input().split()\n",
        "# n, *a = open(0).read().split()\n",
        "a = set(a)\n",
        "b = [(len(i), i) for i in a]\n",
        "b = sorted(b)\n",
        "for i in range(len(a)):\n",
        "  print(b[i][1])\n",
        "\n",
        "# for word in sorted(set(words), key = lambda x: (len(x), x)):\n",
        "#     print(word)\n",
        "\n",
        "# import sys\n",
        "# s=sorted\n",
        "# print('\\n'.join(s(s(set(sys.stdin.read().split()[1:])),key=len)))\n",
        "# ㄴ예시...\n",
        "# a = {'aaa', 'add', 'abc','bb'}\n",
        "# print(sorted(sorted(a), key=len))"
      ],
      "metadata": {
        "colab": {
          "base_uri": "https://localhost:8080/"
        },
        "id": "_x5_KNAR2Vv4",
        "outputId": "31aac371-4567-4890-97f9-0e0ae1d13785"
      },
      "execution_count": 71,
      "outputs": [
        {
          "output_type": "stream",
          "name": "stdout",
          "text": [
            "13 but i wont hesitate no more no more it cannot wait im yours\n",
            "i\n",
            "im\n",
            "it\n",
            "no\n",
            "but\n",
            "more\n",
            "wait\n",
            "wont\n",
            "yours\n",
            "cannot\n",
            "hesitate\n"
          ]
        }
      ]
    },
    {
      "cell_type": "code",
      "source": [
        "# 18870\n",
        "\n",
        "n, *a = map(int, input().split())\n",
        "# n, *a = map(int, open(0).read().split())\n",
        "c = sorted(list(set(a)))\n",
        "b = {}\n",
        "for i in range (len(c)):\n",
        "  b [c[i]] = str(i)\n",
        "print(\" \".join(b[i] for i in a))\n",
        "\n",
        "# .index() 쓰면 시간복잡도 o(n^2)로 초과\n",
        "\n",
        "# dct = {n:idx for idx, n in enumerate(sorted(set(a)))}"
      ],
      "metadata": {
        "colab": {
          "base_uri": "https://localhost:8080/"
        },
        "id": "m2ctbowP-sbe",
        "outputId": "8513b5c7-47c8-400d-d788-b1e12d60e374"
      },
      "execution_count": 87,
      "outputs": [
        {
          "output_type": "stream",
          "name": "stdout",
          "text": [
            "5 2 4 -10 4 -9\n",
            "{-10: '0', -9: '1', 2: '2', 4: '3'}\n",
            "2 3 0 3 1\n"
          ]
        }
      ]
    }
  ]
}
