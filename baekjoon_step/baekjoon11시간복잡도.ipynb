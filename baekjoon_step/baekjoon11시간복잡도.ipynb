{
  "nbformat": 4,
  "nbformat_minor": 0,
  "metadata": {
    "colab": {
      "provenance": [],
      "authorship_tag": "ABX9TyPvLkKBl/ID33LJAJZGXaiV",
      "include_colab_link": true
    },
    "kernelspec": {
      "name": "python3",
      "display_name": "Python 3"
    },
    "language_info": {
      "name": "python"
    }
  },
  "cells": [
    {
      "cell_type": "markdown",
      "metadata": {
        "id": "view-in-github",
        "colab_type": "text"
      },
      "source": [
        "<a href=\"https://colab.research.google.com/github/gggwww06/baekjoon_step/blob/main/baekjoon11%EC%8B%9C%EA%B0%84%EB%B3%B5%EC%9E%A1%EB%8F%84.ipynb\" target=\"_parent\"><img src=\"https://colab.research.google.com/assets/colab-badge.svg\" alt=\"Open In Colab\"/></a>"
      ]
    },
    {
      "cell_type": "code",
      "execution_count": 2,
      "metadata": {
        "colab": {
          "base_uri": "https://localhost:8080/"
        },
        "id": "lMHQ7acnQRNx",
        "outputId": "f2d37a2b-2d6e-4089-9272-ee80e6edb444"
      },
      "outputs": [
        {
          "output_type": "stream",
          "name": "stdout",
          "text": [
            "7 7\n",
            "8\n",
            "10\n",
            "1\n"
          ]
        }
      ],
      "source": [
        "# 24313\n",
        "# O(g(n)) = {f(n) | 모든 n ≥ n0에 대하여 f(n) ≤ c × g(n)인 양의 상수 c와 n0가 존재한다}\n",
        "\n",
        "a1, a0 = map(int, input().split())\n",
        "c = int(input())\n",
        "n0 = int(input())\n",
        "if a1 <= c:\n",
        "  print((a1*n0 + a0 <= c*n0)*1)\n",
        "else:\n",
        "  print(0)\n",
        "\n",
        "# print((a1<=c)*(a0/n0<=c-a1))"
      ]
    }
  ]
}
