{
  "nbformat": 4,
  "nbformat_minor": 0,
  "metadata": {
    "colab": {
      "provenance": [],
      "authorship_tag": "ABX9TyPoRcx4eaGHJP6+ZKbD85Ns",
      "include_colab_link": true
    },
    "kernelspec": {
      "name": "python3",
      "display_name": "Python 3"
    },
    "language_info": {
      "name": "python"
    }
  },
  "cells": [
    {
      "cell_type": "markdown",
      "metadata": {
        "id": "view-in-github",
        "colab_type": "text"
      },
      "source": [
        "<a href=\"https://colab.research.google.com/github/gggwww06/baekjoon_step/blob/main/baekjoon14%EC%A7%91%ED%95%A9%EA%B3%BC%EB%A7%B5.ipynb\" target=\"_parent\"><img src=\"https://colab.research.google.com/assets/colab-badge.svg\" alt=\"Open In Colab\"/></a>"
      ]
    },
    {
      "cell_type": "code",
      "execution_count": 27,
      "metadata": {
        "colab": {
          "base_uri": "https://localhost:8080/"
        },
        "id": "p7B46_jOdw1o",
        "outputId": "392454ed-b5da-4b08-81ef-71eb2713e41e"
      },
      "outputs": [
        {
          "output_type": "stream",
          "name": "stdout",
          "text": [
            "5\n",
            "6 3 2 10 -10\n",
            "8\n",
            "10 9 -5 2 3 4 5 -10\n",
            "1 0 0 1 1 0 0 1 "
          ]
        }
      ],
      "source": [
        "# 10815\n",
        "\n",
        "import sys\n",
        "\n",
        "_, a, _, b = int(input()), list(input().split()), int(input()), list(input().split())\n",
        "# n, a, m, b = int(sys.stdin.readlines()), list(sys.stdin.readlines().split()), int(sys.stdin.readlines()), list(sys.stdin.readlines().split())\n",
        "# ㄴ에러\n",
        "c = {i:1 for i in a}\n",
        "for i in b:\n",
        "  try:\n",
        "    print(c[i], end = \" \")\n",
        "  except:\n",
        "    print(0, end = \" \")\n",
        "\n",
        "# A, B = sys.stdin.buffer.read().splitlines()[1::2]\n",
        "# A = set(A.split())\n",
        "# B = B.split()\n",
        "# print(\"\".join(\"1 \" if x in A else \"0 \" for x in B))"
      ]
    },
    {
      "cell_type": "code",
      "source": [
        "# 1620"
      ],
      "metadata": {
        "id": "uXEQoBzGOhMa"
      },
      "execution_count": null,
      "outputs": []
    }
  ]
}